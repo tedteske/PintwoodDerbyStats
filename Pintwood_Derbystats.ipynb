{
  "nbformat": 4,
  "nbformat_minor": 0,
  "metadata": {
    "kernelspec": {
      "display_name": "Python 3",
      "name": "python3"
    },
    "language_info": {
      "name": "python"
    },
    "colab": {
      "name": "Pintwood Derbystats.ipynb",
      "provenance": [],
      "collapsed_sections": [],
      "include_colab_link": true
    }
  },
  "cells": [
    {
      "cell_type": "markdown",
      "metadata": {
        "id": "view-in-github",
        "colab_type": "text"
      },
      "source": [
        "<a href=\"https://colab.research.google.com/github/tedteske/PintwoodDerbyStats/blob/main/Pintwood_Derbystats.ipynb\" target=\"_parent\"><img src=\"https://colab.research.google.com/assets/colab-badge.svg\" alt=\"Open In Colab\"/></a>"
      ]
    },
    {
      "cell_type": "markdown",
      "metadata": {
        "id": "v3Xh7O3Ancmk"
      },
      "source": [
        "### Pintwood Derby Spring 2022 Results"
      ]
    },
    {
      "cell_type": "markdown",
      "metadata": {
        "id": "n4kl6eyTncmo"
      },
      "source": [
        "First, import the libraries we'll need and load the CSV results files into a Pandas dataframe."
      ]
    },
    {
      "cell_type": "code",
      "metadata": {
        "id": "Sn2vxAn8oK-s",
        "outputId": "de06cb02-097d-4265-b6d7-e475b9a81552",
        "colab": {
          "base_uri": "https://localhost:8080/"
        }
      },
      "source": [
        "#see https://towardsdatascience.com/3-ways-to-load-csv-files-into-colab-7c14fcbdcb92\n",
        "from google.colab import drive\n",
        "drive.mount('/content/gdrive')"
      ],
      "execution_count": 1,
      "outputs": [
        {
          "output_type": "stream",
          "name": "stdout",
          "text": [
            "Drive already mounted at /content/gdrive; to attempt to forcibly remount, call drive.mount(\"/content/gdrive\", force_remount=True).\n"
          ]
        }
      ]
    },
    {
      "cell_type": "code",
      "metadata": {
        "id": "GD0KLaJ_ncmq"
      },
      "source": [
        "import glob\n",
        "import os\n",
        "import pandas as pd\n",
        "import statsmodels.formula.api as sm\n",
        "from scipy import stats\n",
        "\n",
        "import matplotlib.pyplot as plt\n",
        "import seaborn as sns \n",
        "sns.set(rc={'figure.figsize':(8,5)})\n",
        "plt.rcParams[\"font.family\"] = \"serif\"\n",
        "\n",
        "import warnings \n",
        "warnings.simplefilter('ignore')\n",
        "\n",
        "def top_times(df, filter_dict=None, means=True, top=10):\n",
        "    '''\n",
        "    Print dataframe of top times.\n",
        "    \n",
        "    Parameters\n",
        "    ----------\n",
        "    df : dataframe of race data\n",
        "    filter_dict : dictionary, filter used to narrow results by column values\n",
        "    means : bool, if True, return mean time, grouped by car\n",
        "    top : int, number of top times to display\n",
        "    '''\n",
        "    if filter_dict:\n",
        "        df = df[df.isin(filter_dict).sum(1) == len(filter_dict.keys())]\n",
        "        # adapted from https://stackoverflow.com/questions/38137821\n",
        "    df = df[['Car', 'Last Name', 'First Name', 'Lane', 'Time']]\n",
        "    if means:\n",
        "        aggs = {'Time':['mean','std']}\n",
        "        df = df.groupby(['Car','Last Name','First Name']).agg(aggs)\n",
        "        df.columns = ['Time', 'Stdev']\n",
        "    mu = df['Time'].mean()\n",
        "    stdev = df['Time'].std()\n",
        "    df['Z-score'] = (df['Time'] - mu)/stdev\n",
        "    df = df.sort_values('Time')\n",
        "    df = df.head(top)\n",
        "    df = df.reset_index()\n",
        "    df.index += 1 \n",
        "    return df\n",
        "\n",
        "def most_improved(df, year_A, year_B, top=10):\n",
        "    '''\n",
        "    Print dataframe of scouts who improved the most between year_A and year_B.\n",
        "    \n",
        "    Parameters\n",
        "    ----------\n",
        "    df : dataframe of race data\n",
        "    year_A : text string\n",
        "    year_B : text string\n",
        "    top : int, number of top times to display\n",
        "    '''\n",
        "    name_columns = ['Last Name','First Name']\n",
        "    pA_df = top_times(df, {'Year': [year_A]}, means=True, top=None)\n",
        "    pB_df = top_times(df, {'Year': [year_B]}, means=True, top=None)\n",
        "    inner_df = pd.merge(left=pA_df, right=pB_df, \n",
        "                        left_on=name_columns, right_on=name_columns,\n",
        "                        suffixes=('_' + year_A, '_' + year_B))\n",
        "    TimeA_col = 'Time_' + year_A\n",
        "    TimeB_col = 'Time_' + year_B\n",
        "    inner_df = inner_df[['Last Name','First Name', TimeB_col, TimeA_col]]\n",
        "    inner_df['Diff'] = inner_df[TimeB_col] - inner_df[TimeA_col]\n",
        "    inner_df = inner_df.sort_values('Diff').head(top)\n",
        "    inner_df = inner_df.reset_index()\n",
        "    inner_df.index += 1 \n",
        "    return inner_df\n",
        "\n",
        "def rookies(df, year):\n",
        "    '''\n",
        "    Return dataframe of race data from rookies only.\n",
        "    \n",
        "    Parameters\n",
        "    ----------\n",
        "    df : dataframe of race data\n",
        "    year : text string\n",
        "    '''\n",
        "    aggs = {'Year':['max','nunique']}\n",
        "    df0 = df.groupby(['Last Name','First Name']).agg(aggs)\n",
        "    df0.columns = ['Year', 'Tenure']\n",
        "    df0 = df0[(df0[\"Year\"]==year) & (df0[\"Tenure\"]==1)]\n",
        "    df0.drop(['Year', 'Tenure'], axis=1, inplace=True)\n",
        "    df0.reset_index(inplace=True)\n",
        "    rookies_df = df.merge(df0, on=['Last Name', 'First Name'])\n",
        "    return rookies_df\n",
        "\n",
        "def derby_regression(df, years):\n",
        "    '''\n",
        "    Print results of regression of Time on (presumed) factors most \n",
        "    influencing it.\n",
        "    \n",
        "    Parameters\n",
        "    ----------\n",
        "    df : dataframe of race data\n",
        "    years : list of text strings, years to include in data to be analyzed \n",
        "    '''\n",
        "    df = df[df.Year.isin(years)]\n",
        "\n",
        "    # assign ages to preliminary heat cohorts\n",
        "    for i in zip(['Lion', 'Tiger', 'Wolf', 'Bear', 'Webelo', 'AOL'], range(6)):\n",
        "        df.loc[df['Round']==i[0],'Age'] = i[1]\n",
        "    df.loc[df['Round']=='LiTiWolf', 'Age'] = 1 #assume the avg is a Tiger\n",
        "    df.loc[df['Round']=='WebAOL', 'Age'] = 4.5 #middle between Web and AOL\n",
        "    df.loc[df['Round']=='prelims', 'Age'] = 2.5 #middle between Tiger and AOL\n",
        "    \n",
        "    for i in [2,3,4,5,6]: \n",
        "        df.loc[df['Lane']==i,'Lane'+str(i)] = 1\n",
        "    df.loc[df['Last Name']=='Schoonover','Schoonover'] = 1\n",
        "    for n in ['Age', 'Lane2','Lane3','Lane4','Lane5','Lane6', 'Schoonover']:\n",
        "        df[n].fillna(0, inplace=True)\n",
        "    reg_form = \"Time ~ Age + Lane2 + Lane3 + Lane4 + Lane5 + Lane6 + Schoonover\"\n",
        "    result = sm.ols(formula=reg_form, data=df).fit()\n",
        "    print(result.summary())\n",
        "    return None\n",
        "\n",
        "def derby_regression_pintwood(df, years):\n",
        "    '''\n",
        "    Print results of regression of Time on (presumed) factors most \n",
        "    influencing it.\n",
        "    \n",
        "    Parameters\n",
        "    ----------\n",
        "    df : dataframe of race data\n",
        "    years : list of text strings, years to include in data to be analyzed \n",
        "    '''\n",
        "    df = df[df.Year.isin(years)]\n",
        "   \n",
        "    for i in [2,3,4,5,6]: \n",
        "        df.loc[df['Lane']==i,'Lane'+str(i)] = 1\n",
        "    df.loc[df['Car'].isin([4,5,7,8,13,14,22]),'Pack27'] = 1\n",
        "    df.loc[df['Round']=='PrelimB','PrelimB'] = 1\n",
        "    df.loc[df['Round']=='PrelimC','PrelimC'] = 1\n",
        "    df.loc[df['Round']=='PrelimD','PrelimD'] = 1\n",
        "    df.loc[df['Round']=='PrelimE','PrelimE'] = 1\n",
        "\n",
        "    for n in ['Lane2','Lane3','Lane4','Lane5','Lane6', \n",
        "              'PrelimB','PrelimC','PrelimD','PrelimE','Pack27']:\n",
        "        df[n].fillna(0, inplace=True)\n",
        "    reg_form = \"Time ~ Lane2 + Lane3 + Lane4 + Lane5 + Lane6 + \\\n",
        "                PrelimB + PrelimC + PrelimD + PrelimE + Pack27\"\n",
        "    result = sm.ols(formula=reg_form, data=df).fit()\n",
        "    print(result.summary())\n",
        "    return None\n",
        "\n",
        "def compare_hist(df, comps_dict, filter_dict=None, \n",
        "                 title=None, hist=True, norm_hist=True, kde=True, fit=None):\n",
        "    '''\n",
        "    Plot comparable histograms of race data on the same graph.\n",
        "    \n",
        "    Parameters\n",
        "    ----------\n",
        "    df : dataframe of race data\n",
        "    comps_dict : dictionary of keys (field names) and values used as a basis of \n",
        "        comparison between plots\n",
        "    filter_dict : dictionary of keys and values used to filter data used across \n",
        "        all plots\n",
        "    title : text string, title at top of graph\n",
        "    hist : bool, If True, plot a histogram.\n",
        "    norm_hist : bool, If True, histogram height is a density, instead of count.\n",
        "    kde : bool, If True, plot a kernel density estimate.\n",
        "    fit : \"random variable object, optional, An object with fit method, \n",
        "        returning a tuple that can be passed to a pdf method a positional \n",
        "        arguments following a grid of values to evaluate the pdf on.\" \n",
        "        (from seaborn.distplot)\n",
        "    '''\n",
        "    if filter_dict:\n",
        "        df = df[df.isin(filter_dict).sum(1) == len(filter_dict.keys())]\n",
        "    plots = len(comps_dict)\n",
        "    fig, axes = plt.subplots(plots, 1, \n",
        "                             figsize=(10, plots * 10/1.6), sharex=True)\n",
        "    if plots > 1:\n",
        "        axes = axes.flat\n",
        "    else:\n",
        "        axes = [axes]\n",
        "    for ax, column in zip(axes, comps_dict):\n",
        "        for value in comps_dict[column]:\n",
        "            try:\n",
        "                fseries = df[df[column].isin([value])]['Time']\n",
        "            except:\n",
        "                column = column[:-1]\n",
        "                fseries = df[df[column].isin([value])]['Time']\n",
        "            sns.distplot(fseries,\n",
        "                label=value,\n",
        "                hist=hist,\n",
        "                norm_hist=norm_hist,\n",
        "                kde=kde, kde_kws={'fill':False},\n",
        "                fit=fit,\n",
        "                bins=None,\n",
        "                ax=ax, axlabel=False)\n",
        "            if kde: \n",
        "                c = ax.get_lines()[-1].get_c()\n",
        "                ax.axvline(fseries.mean(), color=c, linestyle='--')\n",
        "                legend_title = \"------  averages\" \n",
        "            else: \n",
        "                legend_title = None\n",
        "            if norm_hist:\n",
        "                ax.set(ylabel='relative frequency')\n",
        "            else: \n",
        "                ax.set(ylabel='frequency')\n",
        "            leg = ax.legend(title=legend_title, title_fontsize='medium')\n",
        "            leg._legend_box.align = \"left\"\n",
        "    axes[-1].set(xlabel='time (sec)')\n",
        "    if title: \n",
        "        fig.suptitle(title)\n",
        "        fig.subplots_adjust(top=0.93)\n",
        "    plt.subplots_adjust(hspace=0.07)\n",
        "    plt.show()\n",
        "    return None"
      ],
      "execution_count": 4,
      "outputs": []
    },
    {
      "cell_type": "code",
      "metadata": {
        "id": "CHNYf4v8ncmz"
      },
      "source": [
        "data_dir = \"/content/gdrive/My Drive/Colab Notebooks/scouts/Pintwood Derby\"\n",
        "year_dirs = [\"2022\"]\n",
        "col_dict = {\"Heat#\" : \"Heat\",\n",
        "            \"Car#\" : \"Car\", \n",
        "            \"Avg MPH\" : \"MPH\" }\n",
        "prelims_list = ['PrelimA', 'PrelimB','PrelimC','PrelimD','PrelimE']\n",
        "finals_list = ['Finals']\n",
        "disregard_list = []\n",
        "\n",
        "# Iterate through data directory and import *.csv files into dataframe.\n",
        "temp_list = []\n",
        "for year_dir in year_dirs:\n",
        "    results_files = glob.glob(data_dir + \"/\" + year_dir + \"/\" + \"*.csv\")\n",
        "    for results_file in results_files:\n",
        "        df = pd.read_csv(results_file, index_col=None, header=0)\n",
        "        results_file = os.path.basename(results_file) \n",
        "        df['Round'] = results_file.replace('.csv', '')\n",
        "        df['Year'] = year_dir\n",
        "        df.rename(columns=col_dict, inplace=True)\n",
        "        temp_list.append(df)\n",
        "all_results_df = pd.concat(temp_list, axis = 0, ignore_index = True)\n",
        "null_times_rows = all_results_df[all_results_df[\"Time\"].isnull()].index\n",
        "all_results_df = all_results_df.drop(null_times_rows, axis=0)\n",
        "all_results_df = all_results_df[~all_results_df.Round.isin(disregard_list)]\n",
        "\n",
        "# Scan for misspelled names and fix.\n",
        "Names_Fixes = []\n",
        "for i in Names_Fixes:\n",
        "    all_results_df.loc[(all_results_df['Last Name'] == i[0]) & \n",
        "                        (all_results_df['First Name'] == i[1]),\n",
        "                    ['Last Name', 'First Name']]=[i[2], i[3]]\n",
        "\n",
        "prelims_df = all_results_df[all_results_df.Round.isin(prelims_list)]\n",
        "finals_df = all_results_df[all_results_df.Round.isin(finals_list)]"
      ],
      "execution_count": 5,
      "outputs": []
    },
    {
      "cell_type": "markdown",
      "metadata": {
        "id": "H34Ne0IshEeG"
      },
      "source": [
        "### Preliminary Rounds"
      ]
    },
    {
      "cell_type": "markdown",
      "source": [
        "How many cars participated?"
      ],
      "metadata": {
        "id": "w85mxa4enYe8"
      }
    },
    {
      "cell_type": "code",
      "source": [
        "prelims_df.groupby(['Year'])['Car'].nunique()"
      ],
      "metadata": {
        "colab": {
          "base_uri": "https://localhost:8080/"
        },
        "id": "NeS-I3uhmUJF",
        "outputId": "7df57736-919b-4b19-b474-2e110ed55970"
      },
      "execution_count": 6,
      "outputs": [
        {
          "output_type": "execute_result",
          "data": {
            "text/plain": [
              "Year\n",
              "2022    29\n",
              "Name: Car, dtype: int64"
            ]
          },
          "metadata": {},
          "execution_count": 6
        }
      ]
    },
    {
      "cell_type": "markdown",
      "metadata": {
        "id": "aLEY4Rfr1t6M"
      },
      "source": [
        "Now, run the usual stats."
      ]
    },
    {
      "cell_type": "code",
      "metadata": {
        "id": "dhOE7e5Equib",
        "outputId": "3b293dd4-7fd8-4e9c-98dc-639613b38e9a",
        "colab": {
          "base_uri": "https://localhost:8080/",
          "height": 300
        }
      },
      "source": [
        "prelims_df.groupby(['Year'])['Time'].describe().round(3).T"
      ],
      "execution_count": 7,
      "outputs": [
        {
          "output_type": "execute_result",
          "data": {
            "text/html": [
              "\n",
              "  <div id=\"df-5bf0964a-c2b0-4844-a53a-5a4e410d057f\">\n",
              "    <div class=\"colab-df-container\">\n",
              "      <div>\n",
              "<style scoped>\n",
              "    .dataframe tbody tr th:only-of-type {\n",
              "        vertical-align: middle;\n",
              "    }\n",
              "\n",
              "    .dataframe tbody tr th {\n",
              "        vertical-align: top;\n",
              "    }\n",
              "\n",
              "    .dataframe thead th {\n",
              "        text-align: right;\n",
              "    }\n",
              "</style>\n",
              "<table border=\"1\" class=\"dataframe\">\n",
              "  <thead>\n",
              "    <tr style=\"text-align: right;\">\n",
              "      <th>Year</th>\n",
              "      <th>2022</th>\n",
              "    </tr>\n",
              "  </thead>\n",
              "  <tbody>\n",
              "    <tr>\n",
              "      <th>count</th>\n",
              "      <td>174.000</td>\n",
              "    </tr>\n",
              "    <tr>\n",
              "      <th>mean</th>\n",
              "      <td>3.494</td>\n",
              "    </tr>\n",
              "    <tr>\n",
              "      <th>std</th>\n",
              "      <td>0.723</td>\n",
              "    </tr>\n",
              "    <tr>\n",
              "      <th>min</th>\n",
              "      <td>3.003</td>\n",
              "    </tr>\n",
              "    <tr>\n",
              "      <th>25%</th>\n",
              "      <td>3.092</td>\n",
              "    </tr>\n",
              "    <tr>\n",
              "      <th>50%</th>\n",
              "      <td>3.242</td>\n",
              "    </tr>\n",
              "    <tr>\n",
              "      <th>75%</th>\n",
              "      <td>3.643</td>\n",
              "    </tr>\n",
              "    <tr>\n",
              "      <th>max</th>\n",
              "      <td>10.000</td>\n",
              "    </tr>\n",
              "  </tbody>\n",
              "</table>\n",
              "</div>\n",
              "      <button class=\"colab-df-convert\" onclick=\"convertToInteractive('df-5bf0964a-c2b0-4844-a53a-5a4e410d057f')\"\n",
              "              title=\"Convert this dataframe to an interactive table.\"\n",
              "              style=\"display:none;\">\n",
              "        \n",
              "  <svg xmlns=\"http://www.w3.org/2000/svg\" height=\"24px\"viewBox=\"0 0 24 24\"\n",
              "       width=\"24px\">\n",
              "    <path d=\"M0 0h24v24H0V0z\" fill=\"none\"/>\n",
              "    <path d=\"M18.56 5.44l.94 2.06.94-2.06 2.06-.94-2.06-.94-.94-2.06-.94 2.06-2.06.94zm-11 1L8.5 8.5l.94-2.06 2.06-.94-2.06-.94L8.5 2.5l-.94 2.06-2.06.94zm10 10l.94 2.06.94-2.06 2.06-.94-2.06-.94-.94-2.06-.94 2.06-2.06.94z\"/><path d=\"M17.41 7.96l-1.37-1.37c-.4-.4-.92-.59-1.43-.59-.52 0-1.04.2-1.43.59L10.3 9.45l-7.72 7.72c-.78.78-.78 2.05 0 2.83L4 21.41c.39.39.9.59 1.41.59.51 0 1.02-.2 1.41-.59l7.78-7.78 2.81-2.81c.8-.78.8-2.07 0-2.86zM5.41 20L4 18.59l7.72-7.72 1.47 1.35L5.41 20z\"/>\n",
              "  </svg>\n",
              "      </button>\n",
              "      \n",
              "  <style>\n",
              "    .colab-df-container {\n",
              "      display:flex;\n",
              "      flex-wrap:wrap;\n",
              "      gap: 12px;\n",
              "    }\n",
              "\n",
              "    .colab-df-convert {\n",
              "      background-color: #E8F0FE;\n",
              "      border: none;\n",
              "      border-radius: 50%;\n",
              "      cursor: pointer;\n",
              "      display: none;\n",
              "      fill: #1967D2;\n",
              "      height: 32px;\n",
              "      padding: 0 0 0 0;\n",
              "      width: 32px;\n",
              "    }\n",
              "\n",
              "    .colab-df-convert:hover {\n",
              "      background-color: #E2EBFA;\n",
              "      box-shadow: 0px 1px 2px rgba(60, 64, 67, 0.3), 0px 1px 3px 1px rgba(60, 64, 67, 0.15);\n",
              "      fill: #174EA6;\n",
              "    }\n",
              "\n",
              "    [theme=dark] .colab-df-convert {\n",
              "      background-color: #3B4455;\n",
              "      fill: #D2E3FC;\n",
              "    }\n",
              "\n",
              "    [theme=dark] .colab-df-convert:hover {\n",
              "      background-color: #434B5C;\n",
              "      box-shadow: 0px 1px 3px 1px rgba(0, 0, 0, 0.15);\n",
              "      filter: drop-shadow(0px 1px 2px rgba(0, 0, 0, 0.3));\n",
              "      fill: #FFFFFF;\n",
              "    }\n",
              "  </style>\n",
              "\n",
              "      <script>\n",
              "        const buttonEl =\n",
              "          document.querySelector('#df-5bf0964a-c2b0-4844-a53a-5a4e410d057f button.colab-df-convert');\n",
              "        buttonEl.style.display =\n",
              "          google.colab.kernel.accessAllowed ? 'block' : 'none';\n",
              "\n",
              "        async function convertToInteractive(key) {\n",
              "          const element = document.querySelector('#df-5bf0964a-c2b0-4844-a53a-5a4e410d057f');\n",
              "          const dataTable =\n",
              "            await google.colab.kernel.invokeFunction('convertToInteractive',\n",
              "                                                     [key], {});\n",
              "          if (!dataTable) return;\n",
              "\n",
              "          const docLinkHtml = 'Like what you see? Visit the ' +\n",
              "            '<a target=\"_blank\" href=https://colab.research.google.com/notebooks/data_table.ipynb>data table notebook</a>'\n",
              "            + ' to learn more about interactive tables.';\n",
              "          element.innerHTML = '';\n",
              "          dataTable['output_type'] = 'display_data';\n",
              "          await google.colab.output.renderOutput(dataTable, element);\n",
              "          const docLink = document.createElement('div');\n",
              "          docLink.innerHTML = docLinkHtml;\n",
              "          element.appendChild(docLink);\n",
              "        }\n",
              "      </script>\n",
              "    </div>\n",
              "  </div>\n",
              "  "
            ],
            "text/plain": [
              "Year      2022\n",
              "count  174.000\n",
              "mean     3.494\n",
              "std      0.723\n",
              "min      3.003\n",
              "25%      3.092\n",
              "50%      3.242\n",
              "75%      3.643\n",
              "max     10.000"
            ]
          },
          "metadata": {},
          "execution_count": 7
        }
      ]
    },
    {
      "cell_type": "markdown",
      "source": [
        "Here are the same stats broken down by preliminary round."
      ],
      "metadata": {
        "id": "VneB0sgsuI94"
      }
    },
    {
      "cell_type": "code",
      "source": [
        "prelims_df.groupby(['Year', 'Round'])['Time'].describe().round(3).T"
      ],
      "metadata": {
        "colab": {
          "base_uri": "https://localhost:8080/",
          "height": 332
        },
        "id": "C6k1MIkbuGKN",
        "outputId": "48ee4eb5-47c6-40e9-fe01-602e8f984d31"
      },
      "execution_count": 8,
      "outputs": [
        {
          "output_type": "execute_result",
          "data": {
            "text/html": [
              "\n",
              "  <div id=\"df-4a777e33-7fe5-4500-8df1-7e6088602305\">\n",
              "    <div class=\"colab-df-container\">\n",
              "      <div>\n",
              "<style scoped>\n",
              "    .dataframe tbody tr th:only-of-type {\n",
              "        vertical-align: middle;\n",
              "    }\n",
              "\n",
              "    .dataframe tbody tr th {\n",
              "        vertical-align: top;\n",
              "    }\n",
              "\n",
              "    .dataframe thead tr th {\n",
              "        text-align: left;\n",
              "    }\n",
              "</style>\n",
              "<table border=\"1\" class=\"dataframe\">\n",
              "  <thead>\n",
              "    <tr>\n",
              "      <th>Year</th>\n",
              "      <th colspan=\"5\" halign=\"left\">2022</th>\n",
              "    </tr>\n",
              "    <tr>\n",
              "      <th>Round</th>\n",
              "      <th>PrelimA</th>\n",
              "      <th>PrelimB</th>\n",
              "      <th>PrelimC</th>\n",
              "      <th>PrelimD</th>\n",
              "      <th>PrelimE</th>\n",
              "    </tr>\n",
              "  </thead>\n",
              "  <tbody>\n",
              "    <tr>\n",
              "      <th>count</th>\n",
              "      <td>36.000</td>\n",
              "      <td>36.000</td>\n",
              "      <td>36.000</td>\n",
              "      <td>36.000</td>\n",
              "      <td>30.000</td>\n",
              "    </tr>\n",
              "    <tr>\n",
              "      <th>mean</th>\n",
              "      <td>3.605</td>\n",
              "      <td>3.204</td>\n",
              "      <td>3.492</td>\n",
              "      <td>3.234</td>\n",
              "      <td>4.021</td>\n",
              "    </tr>\n",
              "    <tr>\n",
              "      <th>std</th>\n",
              "      <td>1.202</td>\n",
              "      <td>0.118</td>\n",
              "      <td>0.613</td>\n",
              "      <td>0.219</td>\n",
              "      <td>0.597</td>\n",
              "    </tr>\n",
              "    <tr>\n",
              "      <th>min</th>\n",
              "      <td>3.025</td>\n",
              "      <td>3.047</td>\n",
              "      <td>3.006</td>\n",
              "      <td>3.003</td>\n",
              "      <td>3.061</td>\n",
              "    </tr>\n",
              "    <tr>\n",
              "      <th>25%</th>\n",
              "      <td>3.068</td>\n",
              "      <td>3.133</td>\n",
              "      <td>3.090</td>\n",
              "      <td>3.038</td>\n",
              "      <td>3.641</td>\n",
              "    </tr>\n",
              "    <tr>\n",
              "      <th>50%</th>\n",
              "      <td>3.238</td>\n",
              "      <td>3.151</td>\n",
              "      <td>3.236</td>\n",
              "      <td>3.230</td>\n",
              "      <td>4.333</td>\n",
              "    </tr>\n",
              "    <tr>\n",
              "      <th>75%</th>\n",
              "      <td>3.752</td>\n",
              "      <td>3.341</td>\n",
              "      <td>3.530</td>\n",
              "      <td>3.267</td>\n",
              "      <td>4.476</td>\n",
              "    </tr>\n",
              "    <tr>\n",
              "      <th>max</th>\n",
              "      <td>10.000</td>\n",
              "      <td>3.417</td>\n",
              "      <td>4.960</td>\n",
              "      <td>3.731</td>\n",
              "      <td>5.034</td>\n",
              "    </tr>\n",
              "  </tbody>\n",
              "</table>\n",
              "</div>\n",
              "      <button class=\"colab-df-convert\" onclick=\"convertToInteractive('df-4a777e33-7fe5-4500-8df1-7e6088602305')\"\n",
              "              title=\"Convert this dataframe to an interactive table.\"\n",
              "              style=\"display:none;\">\n",
              "        \n",
              "  <svg xmlns=\"http://www.w3.org/2000/svg\" height=\"24px\"viewBox=\"0 0 24 24\"\n",
              "       width=\"24px\">\n",
              "    <path d=\"M0 0h24v24H0V0z\" fill=\"none\"/>\n",
              "    <path d=\"M18.56 5.44l.94 2.06.94-2.06 2.06-.94-2.06-.94-.94-2.06-.94 2.06-2.06.94zm-11 1L8.5 8.5l.94-2.06 2.06-.94-2.06-.94L8.5 2.5l-.94 2.06-2.06.94zm10 10l.94 2.06.94-2.06 2.06-.94-2.06-.94-.94-2.06-.94 2.06-2.06.94z\"/><path d=\"M17.41 7.96l-1.37-1.37c-.4-.4-.92-.59-1.43-.59-.52 0-1.04.2-1.43.59L10.3 9.45l-7.72 7.72c-.78.78-.78 2.05 0 2.83L4 21.41c.39.39.9.59 1.41.59.51 0 1.02-.2 1.41-.59l7.78-7.78 2.81-2.81c.8-.78.8-2.07 0-2.86zM5.41 20L4 18.59l7.72-7.72 1.47 1.35L5.41 20z\"/>\n",
              "  </svg>\n",
              "      </button>\n",
              "      \n",
              "  <style>\n",
              "    .colab-df-container {\n",
              "      display:flex;\n",
              "      flex-wrap:wrap;\n",
              "      gap: 12px;\n",
              "    }\n",
              "\n",
              "    .colab-df-convert {\n",
              "      background-color: #E8F0FE;\n",
              "      border: none;\n",
              "      border-radius: 50%;\n",
              "      cursor: pointer;\n",
              "      display: none;\n",
              "      fill: #1967D2;\n",
              "      height: 32px;\n",
              "      padding: 0 0 0 0;\n",
              "      width: 32px;\n",
              "    }\n",
              "\n",
              "    .colab-df-convert:hover {\n",
              "      background-color: #E2EBFA;\n",
              "      box-shadow: 0px 1px 2px rgba(60, 64, 67, 0.3), 0px 1px 3px 1px rgba(60, 64, 67, 0.15);\n",
              "      fill: #174EA6;\n",
              "    }\n",
              "\n",
              "    [theme=dark] .colab-df-convert {\n",
              "      background-color: #3B4455;\n",
              "      fill: #D2E3FC;\n",
              "    }\n",
              "\n",
              "    [theme=dark] .colab-df-convert:hover {\n",
              "      background-color: #434B5C;\n",
              "      box-shadow: 0px 1px 3px 1px rgba(0, 0, 0, 0.15);\n",
              "      filter: drop-shadow(0px 1px 2px rgba(0, 0, 0, 0.3));\n",
              "      fill: #FFFFFF;\n",
              "    }\n",
              "  </style>\n",
              "\n",
              "      <script>\n",
              "        const buttonEl =\n",
              "          document.querySelector('#df-4a777e33-7fe5-4500-8df1-7e6088602305 button.colab-df-convert');\n",
              "        buttonEl.style.display =\n",
              "          google.colab.kernel.accessAllowed ? 'block' : 'none';\n",
              "\n",
              "        async function convertToInteractive(key) {\n",
              "          const element = document.querySelector('#df-4a777e33-7fe5-4500-8df1-7e6088602305');\n",
              "          const dataTable =\n",
              "            await google.colab.kernel.invokeFunction('convertToInteractive',\n",
              "                                                     [key], {});\n",
              "          if (!dataTable) return;\n",
              "\n",
              "          const docLinkHtml = 'Like what you see? Visit the ' +\n",
              "            '<a target=\"_blank\" href=https://colab.research.google.com/notebooks/data_table.ipynb>data table notebook</a>'\n",
              "            + ' to learn more about interactive tables.';\n",
              "          element.innerHTML = '';\n",
              "          dataTable['output_type'] = 'display_data';\n",
              "          await google.colab.output.renderOutput(dataTable, element);\n",
              "          const docLink = document.createElement('div');\n",
              "          docLink.innerHTML = docLinkHtml;\n",
              "          element.appendChild(docLink);\n",
              "        }\n",
              "      </script>\n",
              "    </div>\n",
              "  </div>\n",
              "  "
            ],
            "text/plain": [
              "Year     2022                                \n",
              "Round PrelimA PrelimB PrelimC PrelimD PrelimE\n",
              "count  36.000  36.000  36.000  36.000  30.000\n",
              "mean    3.605   3.204   3.492   3.234   4.021\n",
              "std     1.202   0.118   0.613   0.219   0.597\n",
              "min     3.025   3.047   3.006   3.003   3.061\n",
              "25%     3.068   3.133   3.090   3.038   3.641\n",
              "50%     3.238   3.151   3.236   3.230   4.333\n",
              "75%     3.752   3.341   3.530   3.267   4.476\n",
              "max    10.000   3.417   4.960   3.731   5.034"
            ]
          },
          "metadata": {},
          "execution_count": 8
        }
      ]
    },
    {
      "cell_type": "markdown",
      "source": [
        "It appears that PrelimB was the fastest round. Test whether the difference is significant or just chance."
      ],
      "metadata": {
        "id": "JvzXfFhiJRt8"
      }
    },
    {
      "cell_type": "code",
      "source": [
        "stats.ttest_ind(prelims_df[prelims_df.Round.isin(['PrelimB'])]['Time'], \n",
        "                prelims_df[prelims_df.Round.isin(['PrelimA'])]['Time'])"
      ],
      "metadata": {
        "colab": {
          "base_uri": "https://localhost:8080/"
        },
        "id": "aGdK-eQIlZbT",
        "outputId": "72dabf4d-4969-4be7-a28b-1b9c84558dd9"
      },
      "execution_count": 9,
      "outputs": [
        {
          "output_type": "execute_result",
          "data": {
            "text/plain": [
              "Ttest_indResult(statistic=-1.9946266153567596, pvalue=0.04997882554108734)"
            ]
          },
          "metadata": {},
          "execution_count": 9
        }
      ]
    },
    {
      "cell_type": "code",
      "source": [
        "stats.ttest_ind(prelims_df[prelims_df.Round.isin(['PrelimB'])]['Time'], \n",
        "                prelims_df[prelims_df.Round.isin(['PrelimC'])]['Time'])"
      ],
      "metadata": {
        "colab": {
          "base_uri": "https://localhost:8080/"
        },
        "id": "kR4hXoepIRdH",
        "outputId": "e87f3d5a-cd06-4446-9cc6-32973cbcf48f"
      },
      "execution_count": 10,
      "outputs": [
        {
          "output_type": "execute_result",
          "data": {
            "text/plain": [
              "Ttest_indResult(statistic=-2.7730038359603095, pvalue=0.007112590489607318)"
            ]
          },
          "metadata": {},
          "execution_count": 10
        }
      ]
    },
    {
      "cell_type": "code",
      "source": [
        "stats.ttest_ind(prelims_df[prelims_df.Round.isin(['PrelimB'])]['Time'], \n",
        "                prelims_df[prelims_df.Round.isin(['PrelimE'])]['Time'])"
      ],
      "metadata": {
        "colab": {
          "base_uri": "https://localhost:8080/"
        },
        "id": "rLns6yd9KiFq",
        "outputId": "12c8f715-ca6c-4584-8576-043cecc73f70"
      },
      "execution_count": 11,
      "outputs": [
        {
          "output_type": "execute_result",
          "data": {
            "text/plain": [
              "Ttest_indResult(statistic=-8.049157369412878, pvalue=2.6406317268873522e-11)"
            ]
          },
          "metadata": {},
          "execution_count": 11
        }
      ]
    },
    {
      "cell_type": "markdown",
      "source": [
        "Since pvalues < 0.05, we *can* reject the null hypothesis that the samples PrelimA, PrelimC, and PrelimE are drawn from the same process as PrelimB. In other words, PrelimB was *significantly* faster than those three. "
      ],
      "metadata": {
        "id": "lFE4BDGQR6dT"
      }
    },
    {
      "cell_type": "code",
      "source": [
        "stats.ttest_ind(prelims_df[prelims_df.Round.isin(['PrelimB'])]['Time'], \n",
        "                prelims_df[prelims_df.Round.isin(['PrelimD'])]['Time'])"
      ],
      "metadata": {
        "colab": {
          "base_uri": "https://localhost:8080/"
        },
        "id": "4ZXmKKy-KWBa",
        "outputId": "9d92c543-e5af-4b24-92c7-8971f88ab585"
      },
      "execution_count": 12,
      "outputs": [
        {
          "output_type": "execute_result",
          "data": {
            "text/plain": [
              "Ttest_indResult(statistic=-0.7250982709455613, pvalue=0.47080876760174495)"
            ]
          },
          "metadata": {},
          "execution_count": 12
        }
      ]
    },
    {
      "cell_type": "markdown",
      "metadata": {
        "id": "xkgrvIwAPQuv"
      },
      "source": [
        "However, since the above pvalue > 0.05, we *cannot* reject the null hypothesis that the sample PrelimD is drawn from the same process. In other words, PrelimB was not *significantly* faster than PrelimD. Pretty much a tie."
      ]
    },
    {
      "cell_type": "markdown",
      "metadata": {
        "id": "C8E7uAcjP_Jh"
      },
      "source": [
        "Let's see what the distribution of times looks like by drawing a histogram."
      ]
    },
    {
      "cell_type": "code",
      "metadata": {
        "id": "HjBF71ZewbBa",
        "outputId": "ff6e4c7c-5320-47d2-f14a-32be50c82342",
        "colab": {
          "base_uri": "https://localhost:8080/",
          "height": 452
        }
      },
      "source": [
        "comps = {'Year' : [\"2022\"]}\n",
        "compare_hist(prelims_df, comps, title=\"Preliminary Rounds\",\n",
        "         hist=True, norm_hist=False, kde=False)"
      ],
      "execution_count": 13,
      "outputs": [
        {
          "output_type": "display_data",
          "data": {
            "image/png": "[encoded data removed]",
            "text/plain": [
              "<Figure size 720x450 with 1 Axes>"
            ]
          },
          "metadata": {}
        }
      ]
    },
    {
      "cell_type": "markdown",
      "metadata": {
        "id": "C9Elh4bmQKS_"
      },
      "source": [
        "Let's normalize and smooth the histogram and add a line representing the average time."
      ]
    },
    {
      "cell_type": "code",
      "metadata": {
        "id": "ByvXOZuksqC4",
        "outputId": "b25348a0-eb73-4deb-aaad-ae467db2afae",
        "colab": {
          "base_uri": "https://localhost:8080/",
          "height": 452
        }
      },
      "source": [
        "comps = {'Year' : [\"2022\"]}\n",
        "compare_hist(prelims_df, comps, title=\"Preliminary Rounds\",\n",
        "         hist=False, norm_hist=True, kde=True)"
      ],
      "execution_count": 14,
      "outputs": [
        {
          "output_type": "display_data",
          "data": {
            "image/png": "[encoded data removed]",
            "text/plain": [
              "<Figure size 720x450 with 1 Axes>"
            ]
          },
          "metadata": {}
        }
      ]
    },
    {
      "cell_type": "markdown",
      "metadata": {
        "id": "_pFHzhARQplf"
      },
      "source": [
        "There appear to be two groups, those with times centered around 3.5 seconds and those with time centered around 4.5 seconds."
      ]
    },
    {
      "cell_type": "markdown",
      "metadata": {
        "id": "5gz7lp-Rl4Qe"
      },
      "source": [
        "Average Time by car in the prelims, the top 12. Z-score, or standard score, indicates how fast each car was that in terms of standard deviations from the overall average. See https://en.wikipedia.org/wiki/Standard_score for more info."
      ]
    },
    {
      "cell_type": "code",
      "metadata": {
        "id": "XBkaM-vvqdkG",
        "colab": {
          "base_uri": "https://localhost:8080/",
          "height": 426
        },
        "outputId": "f048bc8f-10a9-4554-ecea-bfec2af023da"
      },
      "source": [
        "filter_dict = {'Year' :['2022']}\n",
        "top_times(prelims_df, filter_dict, means=True, top=12)"
      ],
      "execution_count": 15,
      "outputs": [
        {
          "output_type": "execute_result",
          "data": {
            "text/html": [
              "\n",
              "  <div id=\"df-5b97dffa-bf91-4b36-a078-6c38516088b5\">\n",
              "    <div class=\"colab-df-container\">\n",
              "      <div>\n",
              "<style scoped>\n",
              "    .dataframe tbody tr th:only-of-type {\n",
              "        vertical-align: middle;\n",
              "    }\n",
              "\n",
              "    .dataframe tbody tr th {\n",
              "        vertical-align: top;\n",
              "    }\n",
              "\n",
              "    .dataframe thead th {\n",
              "        text-align: right;\n",
              "    }\n",
              "</style>\n",
              "<table border=\"1\" class=\"dataframe\">\n",
              "  <thead>\n",
              "    <tr style=\"text-align: right;\">\n",
              "      <th></th>\n",
              "      <th>Car</th>\n",
              "      <th>Last Name</th>\n",
              "      <th>First Name</th>\n",
              "      <th>Time</th>\n",
              "      <th>Stdev</th>\n",
              "      <th>Z-score</th>\n",
              "    </tr>\n",
              "  </thead>\n",
              "  <tbody>\n",
              "    <tr>\n",
              "      <th>1</th>\n",
              "      <td>23</td>\n",
              "      <td>Hein</td>\n",
              "      <td>Owen</td>\n",
              "      <td>3.011017</td>\n",
              "      <td>0.006761</td>\n",
              "      <td>-0.785382</td>\n",
              "    </tr>\n",
              "    <tr>\n",
              "      <th>2</th>\n",
              "      <td>4</td>\n",
              "      <td>Green</td>\n",
              "      <td>Luke</td>\n",
              "      <td>3.029083</td>\n",
              "      <td>0.005142</td>\n",
              "      <td>-0.755992</td>\n",
              "    </tr>\n",
              "    <tr>\n",
              "      <th>3</th>\n",
              "      <td>13</td>\n",
              "      <td>Schoonover</td>\n",
              "      <td>Daniel</td>\n",
              "      <td>3.031633</td>\n",
              "      <td>0.024723</td>\n",
              "      <td>-0.751843</td>\n",
              "    </tr>\n",
              "    <tr>\n",
              "      <th>4</th>\n",
              "      <td>24</td>\n",
              "      <td>Melton</td>\n",
              "      <td>Larry</td>\n",
              "      <td>3.047767</td>\n",
              "      <td>0.014450</td>\n",
              "      <td>-0.725598</td>\n",
              "    </tr>\n",
              "    <tr>\n",
              "      <th>5</th>\n",
              "      <td>5</td>\n",
              "      <td>Evers</td>\n",
              "      <td>Lindel</td>\n",
              "      <td>3.066517</td>\n",
              "      <td>0.009292</td>\n",
              "      <td>-0.695095</td>\n",
              "    </tr>\n",
              "    <tr>\n",
              "      <th>6</th>\n",
              "      <td>26</td>\n",
              "      <td>Martin</td>\n",
              "      <td>Josh</td>\n",
              "      <td>3.079633</td>\n",
              "      <td>0.015445</td>\n",
              "      <td>-0.673757</td>\n",
              "    </tr>\n",
              "    <tr>\n",
              "      <th>7</th>\n",
              "      <td>8</td>\n",
              "      <td>Schoonover</td>\n",
              "      <td>Lacey</td>\n",
              "      <td>3.095217</td>\n",
              "      <td>0.099888</td>\n",
              "      <td>-0.648406</td>\n",
              "    </tr>\n",
              "    <tr>\n",
              "      <th>8</th>\n",
              "      <td>9</td>\n",
              "      <td>Mitchell</td>\n",
              "      <td>Rick</td>\n",
              "      <td>3.135800</td>\n",
              "      <td>0.005145</td>\n",
              "      <td>-0.582385</td>\n",
              "    </tr>\n",
              "    <tr>\n",
              "      <th>9</th>\n",
              "      <td>7</td>\n",
              "      <td>Pool</td>\n",
              "      <td>Jason</td>\n",
              "      <td>3.137250</td>\n",
              "      <td>0.010669</td>\n",
              "      <td>-0.580027</td>\n",
              "    </tr>\n",
              "    <tr>\n",
              "      <th>10</th>\n",
              "      <td>10</td>\n",
              "      <td>Tharp</td>\n",
              "      <td>Stephen</td>\n",
              "      <td>3.155983</td>\n",
              "      <td>0.007077</td>\n",
              "      <td>-0.549551</td>\n",
              "    </tr>\n",
              "    <tr>\n",
              "      <th>11</th>\n",
              "      <td>6</td>\n",
              "      <td>Bynum</td>\n",
              "      <td>Richard</td>\n",
              "      <td>3.156600</td>\n",
              "      <td>0.014776</td>\n",
              "      <td>-0.548548</td>\n",
              "    </tr>\n",
              "    <tr>\n",
              "      <th>12</th>\n",
              "      <td>14</td>\n",
              "      <td>Douthitt</td>\n",
              "      <td>Jed</td>\n",
              "      <td>3.169567</td>\n",
              "      <td>0.042247</td>\n",
              "      <td>-0.527454</td>\n",
              "    </tr>\n",
              "  </tbody>\n",
              "</table>\n",
              "</div>\n",
              "      <button class=\"colab-df-convert\" onclick=\"convertToInteractive('df-5b97dffa-bf91-4b36-a078-6c38516088b5')\"\n",
              "              title=\"Convert this dataframe to an interactive table.\"\n",
              "              style=\"display:none;\">\n",
              "        \n",
              "  <svg xmlns=\"http://www.w3.org/2000/svg\" height=\"24px\"viewBox=\"0 0 24 24\"\n",
              "       width=\"24px\">\n",
              "    <path d=\"M0 0h24v24H0V0z\" fill=\"none\"/>\n",
              "    <path d=\"M18.56 5.44l.94 2.06.94-2.06 2.06-.94-2.06-.94-.94-2.06-.94 2.06-2.06.94zm-11 1L8.5 8.5l.94-2.06 2.06-.94-2.06-.94L8.5 2.5l-.94 2.06-2.06.94zm10 10l.94 2.06.94-2.06 2.06-.94-2.06-.94-.94-2.06-.94 2.06-2.06.94z\"/><path d=\"M17.41 7.96l-1.37-1.37c-.4-.4-.92-.59-1.43-.59-.52 0-1.04.2-1.43.59L10.3 9.45l-7.72 7.72c-.78.78-.78 2.05 0 2.83L4 21.41c.39.39.9.59 1.41.59.51 0 1.02-.2 1.41-.59l7.78-7.78 2.81-2.81c.8-.78.8-2.07 0-2.86zM5.41 20L4 18.59l7.72-7.72 1.47 1.35L5.41 20z\"/>\n",
              "  </svg>\n",
              "      </button>\n",
              "      \n",
              "  <style>\n",
              "    .colab-df-container {\n",
              "      display:flex;\n",
              "      flex-wrap:wrap;\n",
              "      gap: 12px;\n",
              "    }\n",
              "\n",
              "    .colab-df-convert {\n",
              "      background-color: #E8F0FE;\n",
              "      border: none;\n",
              "      border-radius: 50%;\n",
              "      cursor: pointer;\n",
              "      display: none;\n",
              "      fill: #1967D2;\n",
              "      height: 32px;\n",
              "      padding: 0 0 0 0;\n",
              "      width: 32px;\n",
              "    }\n",
              "\n",
              "    .colab-df-convert:hover {\n",
              "      background-color: #E2EBFA;\n",
              "      box-shadow: 0px 1px 2px rgba(60, 64, 67, 0.3), 0px 1px 3px 1px rgba(60, 64, 67, 0.15);\n",
              "      fill: #174EA6;\n",
              "    }\n",
              "\n",
              "    [theme=dark] .colab-df-convert {\n",
              "      background-color: #3B4455;\n",
              "      fill: #D2E3FC;\n",
              "    }\n",
              "\n",
              "    [theme=dark] .colab-df-convert:hover {\n",
              "      background-color: #434B5C;\n",
              "      box-shadow: 0px 1px 3px 1px rgba(0, 0, 0, 0.15);\n",
              "      filter: drop-shadow(0px 1px 2px rgba(0, 0, 0, 0.3));\n",
              "      fill: #FFFFFF;\n",
              "    }\n",
              "  </style>\n",
              "\n",
              "      <script>\n",
              "        const buttonEl =\n",
              "          document.querySelector('#df-5b97dffa-bf91-4b36-a078-6c38516088b5 button.colab-df-convert');\n",
              "        buttonEl.style.display =\n",
              "          google.colab.kernel.accessAllowed ? 'block' : 'none';\n",
              "\n",
              "        async function convertToInteractive(key) {\n",
              "          const element = document.querySelector('#df-5b97dffa-bf91-4b36-a078-6c38516088b5');\n",
              "          const dataTable =\n",
              "            await google.colab.kernel.invokeFunction('convertToInteractive',\n",
              "                                                     [key], {});\n",
              "          if (!dataTable) return;\n",
              "\n",
              "          const docLinkHtml = 'Like what you see? Visit the ' +\n",
              "            '<a target=\"_blank\" href=https://colab.research.google.com/notebooks/data_table.ipynb>data table notebook</a>'\n",
              "            + ' to learn more about interactive tables.';\n",
              "          element.innerHTML = '';\n",
              "          dataTable['output_type'] = 'display_data';\n",
              "          await google.colab.output.renderOutput(dataTable, element);\n",
              "          const docLink = document.createElement('div');\n",
              "          docLink.innerHTML = docLinkHtml;\n",
              "          element.appendChild(docLink);\n",
              "        }\n",
              "      </script>\n",
              "    </div>\n",
              "  </div>\n",
              "  "
            ],
            "text/plain": [
              "   Car   Last Name First Name      Time     Stdev   Z-score\n",
              "1   23        Hein       Owen  3.011017  0.006761 -0.785382\n",
              "2    4       Green       Luke  3.029083  0.005142 -0.755992\n",
              "3   13  Schoonover     Daniel  3.031633  0.024723 -0.751843\n",
              "4   24      Melton      Larry  3.047767  0.014450 -0.725598\n",
              "5    5       Evers     Lindel  3.066517  0.009292 -0.695095\n",
              "6   26      Martin       Josh  3.079633  0.015445 -0.673757\n",
              "7    8  Schoonover      Lacey  3.095217  0.099888 -0.648406\n",
              "8    9    Mitchell       Rick  3.135800  0.005145 -0.582385\n",
              "9    7        Pool      Jason  3.137250  0.010669 -0.580027\n",
              "10  10       Tharp    Stephen  3.155983  0.007077 -0.549551\n",
              "11   6       Bynum    Richard  3.156600  0.014776 -0.548548\n",
              "12  14    Douthitt        Jed  3.169567  0.042247 -0.527454"
            ]
          },
          "metadata": {},
          "execution_count": 15
        }
      ]
    },
    {
      "cell_type": "markdown",
      "metadata": {
        "id": "fWeHIc5nd0Ys"
      },
      "source": [
        "And here are the top 12 individual Times in the prelims."
      ]
    },
    {
      "cell_type": "code",
      "metadata": {
        "id": "2b3Gn3lLElyw",
        "colab": {
          "base_uri": "https://localhost:8080/",
          "height": 426
        },
        "outputId": "ef006183-2378-4b79-a6c4-dba2c5c4c0a0"
      },
      "source": [
        "filter_dict = {'Year' :['2022']}\n",
        "top_times(prelims_df, filter_dict, means=False, top=12)"
      ],
      "execution_count": 16,
      "outputs": [
        {
          "output_type": "execute_result",
          "data": {
            "text/html": [
              "\n",
              "  <div id=\"df-eea2280a-6bd3-48fb-965e-57c44bdaa95b\">\n",
              "    <div class=\"colab-df-container\">\n",
              "      <div>\n",
              "<style scoped>\n",
              "    .dataframe tbody tr th:only-of-type {\n",
              "        vertical-align: middle;\n",
              "    }\n",
              "\n",
              "    .dataframe tbody tr th {\n",
              "        vertical-align: top;\n",
              "    }\n",
              "\n",
              "    .dataframe thead th {\n",
              "        text-align: right;\n",
              "    }\n",
              "</style>\n",
              "<table border=\"1\" class=\"dataframe\">\n",
              "  <thead>\n",
              "    <tr style=\"text-align: right;\">\n",
              "      <th></th>\n",
              "      <th>index</th>\n",
              "      <th>Car</th>\n",
              "      <th>Last Name</th>\n",
              "      <th>First Name</th>\n",
              "      <th>Lane</th>\n",
              "      <th>Time</th>\n",
              "      <th>Z-score</th>\n",
              "    </tr>\n",
              "  </thead>\n",
              "  <tbody>\n",
              "    <tr>\n",
              "      <th>1</th>\n",
              "      <td>124</td>\n",
              "      <td>23</td>\n",
              "      <td>Hein</td>\n",
              "      <td>Owen</td>\n",
              "      <td>5</td>\n",
              "      <td>3.0034</td>\n",
              "      <td>-0.678149</td>\n",
              "    </tr>\n",
              "    <tr>\n",
              "      <th>2</th>\n",
              "      <td>131</td>\n",
              "      <td>23</td>\n",
              "      <td>Hein</td>\n",
              "      <td>Owen</td>\n",
              "      <td>6</td>\n",
              "      <td>3.0037</td>\n",
              "      <td>-0.677734</td>\n",
              "    </tr>\n",
              "    <tr>\n",
              "      <th>3</th>\n",
              "      <td>179</td>\n",
              "      <td>13</td>\n",
              "      <td>Schoonover</td>\n",
              "      <td>Daniel</td>\n",
              "      <td>6</td>\n",
              "      <td>3.0060</td>\n",
              "      <td>-0.674553</td>\n",
              "    </tr>\n",
              "    <tr>\n",
              "      <th>4</th>\n",
              "      <td>117</td>\n",
              "      <td>23</td>\n",
              "      <td>Hein</td>\n",
              "      <td>Owen</td>\n",
              "      <td>4</td>\n",
              "      <td>3.0100</td>\n",
              "      <td>-0.669022</td>\n",
              "    </tr>\n",
              "    <tr>\n",
              "      <th>5</th>\n",
              "      <td>110</td>\n",
              "      <td>23</td>\n",
              "      <td>Hein</td>\n",
              "      <td>Owen</td>\n",
              "      <td>3</td>\n",
              "      <td>3.0133</td>\n",
              "      <td>-0.664459</td>\n",
              "    </tr>\n",
              "    <tr>\n",
              "      <th>6</th>\n",
              "      <td>132</td>\n",
              "      <td>23</td>\n",
              "      <td>Hein</td>\n",
              "      <td>Owen</td>\n",
              "      <td>1</td>\n",
              "      <td>3.0149</td>\n",
              "      <td>-0.662246</td>\n",
              "    </tr>\n",
              "    <tr>\n",
              "      <th>7</th>\n",
              "      <td>151</td>\n",
              "      <td>13</td>\n",
              "      <td>Schoonover</td>\n",
              "      <td>Daniel</td>\n",
              "      <td>2</td>\n",
              "      <td>3.0160</td>\n",
              "      <td>-0.660725</td>\n",
              "    </tr>\n",
              "    <tr>\n",
              "      <th>8</th>\n",
              "      <td>139</td>\n",
              "      <td>23</td>\n",
              "      <td>Hein</td>\n",
              "      <td>Owen</td>\n",
              "      <td>2</td>\n",
              "      <td>3.0208</td>\n",
              "      <td>-0.654087</td>\n",
              "    </tr>\n",
              "    <tr>\n",
              "      <th>9</th>\n",
              "      <td>144</td>\n",
              "      <td>13</td>\n",
              "      <td>Schoonover</td>\n",
              "      <td>Daniel</td>\n",
              "      <td>1</td>\n",
              "      <td>3.0222</td>\n",
              "      <td>-0.652151</td>\n",
              "    </tr>\n",
              "    <tr>\n",
              "      <th>10</th>\n",
              "      <td>165</td>\n",
              "      <td>13</td>\n",
              "      <td>Schoonover</td>\n",
              "      <td>Daniel</td>\n",
              "      <td>4</td>\n",
              "      <td>3.0226</td>\n",
              "      <td>-0.651598</td>\n",
              "    </tr>\n",
              "    <tr>\n",
              "      <th>11</th>\n",
              "      <td>75</td>\n",
              "      <td>4</td>\n",
              "      <td>Green</td>\n",
              "      <td>Luke</td>\n",
              "      <td>4</td>\n",
              "      <td>3.0249</td>\n",
              "      <td>-0.648417</td>\n",
              "    </tr>\n",
              "    <tr>\n",
              "      <th>12</th>\n",
              "      <td>97</td>\n",
              "      <td>4</td>\n",
              "      <td>Green</td>\n",
              "      <td>Luke</td>\n",
              "      <td>2</td>\n",
              "      <td>3.0249</td>\n",
              "      <td>-0.648417</td>\n",
              "    </tr>\n",
              "  </tbody>\n",
              "</table>\n",
              "</div>\n",
              "      <button class=\"colab-df-convert\" onclick=\"convertToInteractive('df-eea2280a-6bd3-48fb-965e-57c44bdaa95b')\"\n",
              "              title=\"Convert this dataframe to an interactive table.\"\n",
              "              style=\"display:none;\">\n",
              "        \n",
              "  <svg xmlns=\"http://www.w3.org/2000/svg\" height=\"24px\"viewBox=\"0 0 24 24\"\n",
              "       width=\"24px\">\n",
              "    <path d=\"M0 0h24v24H0V0z\" fill=\"none\"/>\n",
              "    <path d=\"M18.56 5.44l.94 2.06.94-2.06 2.06-.94-2.06-.94-.94-2.06-.94 2.06-2.06.94zm-11 1L8.5 8.5l.94-2.06 2.06-.94-2.06-.94L8.5 2.5l-.94 2.06-2.06.94zm10 10l.94 2.06.94-2.06 2.06-.94-2.06-.94-.94-2.06-.94 2.06-2.06.94z\"/><path d=\"M17.41 7.96l-1.37-1.37c-.4-.4-.92-.59-1.43-.59-.52 0-1.04.2-1.43.59L10.3 9.45l-7.72 7.72c-.78.78-.78 2.05 0 2.83L4 21.41c.39.39.9.59 1.41.59.51 0 1.02-.2 1.41-.59l7.78-7.78 2.81-2.81c.8-.78.8-2.07 0-2.86zM5.41 20L4 18.59l7.72-7.72 1.47 1.35L5.41 20z\"/>\n",
              "  </svg>\n",
              "      </button>\n",
              "      \n",
              "  <style>\n",
              "    .colab-df-container {\n",
              "      display:flex;\n",
              "      flex-wrap:wrap;\n",
              "      gap: 12px;\n",
              "    }\n",
              "\n",
              "    .colab-df-convert {\n",
              "      background-color: #E8F0FE;\n",
              "      border: none;\n",
              "      border-radius: 50%;\n",
              "      cursor: pointer;\n",
              "      display: none;\n",
              "      fill: #1967D2;\n",
              "      height: 32px;\n",
              "      padding: 0 0 0 0;\n",
              "      width: 32px;\n",
              "    }\n",
              "\n",
              "    .colab-df-convert:hover {\n",
              "      background-color: #E2EBFA;\n",
              "      box-shadow: 0px 1px 2px rgba(60, 64, 67, 0.3), 0px 1px 3px 1px rgba(60, 64, 67, 0.15);\n",
              "      fill: #174EA6;\n",
              "    }\n",
              "\n",
              "    [theme=dark] .colab-df-convert {\n",
              "      background-color: #3B4455;\n",
              "      fill: #D2E3FC;\n",
              "    }\n",
              "\n",
              "    [theme=dark] .colab-df-convert:hover {\n",
              "      background-color: #434B5C;\n",
              "      box-shadow: 0px 1px 3px 1px rgba(0, 0, 0, 0.15);\n",
              "      filter: drop-shadow(0px 1px 2px rgba(0, 0, 0, 0.3));\n",
              "      fill: #FFFFFF;\n",
              "    }\n",
              "  </style>\n",
              "\n",
              "      <script>\n",
              "        const buttonEl =\n",
              "          document.querySelector('#df-eea2280a-6bd3-48fb-965e-57c44bdaa95b button.colab-df-convert');\n",
              "        buttonEl.style.display =\n",
              "          google.colab.kernel.accessAllowed ? 'block' : 'none';\n",
              "\n",
              "        async function convertToInteractive(key) {\n",
              "          const element = document.querySelector('#df-eea2280a-6bd3-48fb-965e-57c44bdaa95b');\n",
              "          const dataTable =\n",
              "            await google.colab.kernel.invokeFunction('convertToInteractive',\n",
              "                                                     [key], {});\n",
              "          if (!dataTable) return;\n",
              "\n",
              "          const docLinkHtml = 'Like what you see? Visit the ' +\n",
              "            '<a target=\"_blank\" href=https://colab.research.google.com/notebooks/data_table.ipynb>data table notebook</a>'\n",
              "            + ' to learn more about interactive tables.';\n",
              "          element.innerHTML = '';\n",
              "          dataTable['output_type'] = 'display_data';\n",
              "          await google.colab.output.renderOutput(dataTable, element);\n",
              "          const docLink = document.createElement('div');\n",
              "          docLink.innerHTML = docLinkHtml;\n",
              "          element.appendChild(docLink);\n",
              "        }\n",
              "      </script>\n",
              "    </div>\n",
              "  </div>\n",
              "  "
            ],
            "text/plain": [
              "    index Car   Last Name First Name  Lane    Time   Z-score\n",
              "1     124  23        Hein       Owen     5  3.0034 -0.678149\n",
              "2     131  23        Hein       Owen     6  3.0037 -0.677734\n",
              "3     179  13  Schoonover     Daniel     6  3.0060 -0.674553\n",
              "4     117  23        Hein       Owen     4  3.0100 -0.669022\n",
              "5     110  23        Hein       Owen     3  3.0133 -0.664459\n",
              "6     132  23        Hein       Owen     1  3.0149 -0.662246\n",
              "7     151  13  Schoonover     Daniel     2  3.0160 -0.660725\n",
              "8     139  23        Hein       Owen     2  3.0208 -0.654087\n",
              "9     144  13  Schoonover     Daniel     1  3.0222 -0.652151\n",
              "10    165  13  Schoonover     Daniel     4  3.0226 -0.651598\n",
              "11     75   4       Green       Luke     4  3.0249 -0.648417\n",
              "12     97   4       Green       Luke     2  3.0249 -0.648417"
            ]
          },
          "metadata": {},
          "execution_count": 16
        }
      ]
    },
    {
      "cell_type": "markdown",
      "metadata": {
        "id": "Z0VNCTxGh2c0"
      },
      "source": [
        "### Finals Rounds"
      ]
    },
    {
      "cell_type": "markdown",
      "source": [
        "How many cars participated?"
      ],
      "metadata": {
        "id": "A1FalAfkMxBn"
      }
    },
    {
      "cell_type": "code",
      "source": [
        "finals_df.groupby(['Year'])['Car'].nunique()"
      ],
      "metadata": {
        "colab": {
          "base_uri": "https://localhost:8080/"
        },
        "id": "6JdZMGM4Myh5",
        "outputId": "90c7834a-f1dd-4240-9d99-bec9c77441a5"
      },
      "execution_count": 17,
      "outputs": [
        {
          "output_type": "execute_result",
          "data": {
            "text/plain": [
              "Year\n",
              "2022    12\n",
              "Name: Car, dtype: int64"
            ]
          },
          "metadata": {},
          "execution_count": 17
        }
      ]
    },
    {
      "cell_type": "markdown",
      "metadata": {
        "id": "fjV5tz6w7bZq"
      },
      "source": [
        "Now, run the usual stats."
      ]
    },
    {
      "cell_type": "code",
      "metadata": {
        "id": "vPwOWUmgnnxu",
        "colab": {
          "base_uri": "https://localhost:8080/",
          "height": 300
        },
        "outputId": "db81af3a-dd8c-421a-bfb7-69828270027f"
      },
      "source": [
        "finals_df.groupby(['Year'])['Time'].describe().round(3).T"
      ],
      "execution_count": 18,
      "outputs": [
        {
          "output_type": "execute_result",
          "data": {
            "text/html": [
              "\n",
              "  <div id=\"df-2c170314-b866-4361-9cd7-2ec679ff98ff\">\n",
              "    <div class=\"colab-df-container\">\n",
              "      <div>\n",
              "<style scoped>\n",
              "    .dataframe tbody tr th:only-of-type {\n",
              "        vertical-align: middle;\n",
              "    }\n",
              "\n",
              "    .dataframe tbody tr th {\n",
              "        vertical-align: top;\n",
              "    }\n",
              "\n",
              "    .dataframe thead th {\n",
              "        text-align: right;\n",
              "    }\n",
              "</style>\n",
              "<table border=\"1\" class=\"dataframe\">\n",
              "  <thead>\n",
              "    <tr style=\"text-align: right;\">\n",
              "      <th>Year</th>\n",
              "      <th>2022</th>\n",
              "    </tr>\n",
              "  </thead>\n",
              "  <tbody>\n",
              "    <tr>\n",
              "      <th>count</th>\n",
              "      <td>72.000</td>\n",
              "    </tr>\n",
              "    <tr>\n",
              "      <th>mean</th>\n",
              "      <td>3.092</td>\n",
              "    </tr>\n",
              "    <tr>\n",
              "      <th>std</th>\n",
              "      <td>0.112</td>\n",
              "    </tr>\n",
              "    <tr>\n",
              "      <th>min</th>\n",
              "      <td>3.009</td>\n",
              "    </tr>\n",
              "    <tr>\n",
              "      <th>25%</th>\n",
              "      <td>3.038</td>\n",
              "    </tr>\n",
              "    <tr>\n",
              "      <th>50%</th>\n",
              "      <td>3.064</td>\n",
              "    </tr>\n",
              "    <tr>\n",
              "      <th>75%</th>\n",
              "      <td>3.126</td>\n",
              "    </tr>\n",
              "    <tr>\n",
              "      <th>max</th>\n",
              "      <td>3.915</td>\n",
              "    </tr>\n",
              "  </tbody>\n",
              "</table>\n",
              "</div>\n",
              "      <button class=\"colab-df-convert\" onclick=\"convertToInteractive('df-2c170314-b866-4361-9cd7-2ec679ff98ff')\"\n",
              "              title=\"Convert this dataframe to an interactive table.\"\n",
              "              style=\"display:none;\">\n",
              "        \n",
              "  <svg xmlns=\"http://www.w3.org/2000/svg\" height=\"24px\"viewBox=\"0 0 24 24\"\n",
              "       width=\"24px\">\n",
              "    <path d=\"M0 0h24v24H0V0z\" fill=\"none\"/>\n",
              "    <path d=\"M18.56 5.44l.94 2.06.94-2.06 2.06-.94-2.06-.94-.94-2.06-.94 2.06-2.06.94zm-11 1L8.5 8.5l.94-2.06 2.06-.94-2.06-.94L8.5 2.5l-.94 2.06-2.06.94zm10 10l.94 2.06.94-2.06 2.06-.94-2.06-.94-.94-2.06-.94 2.06-2.06.94z\"/><path d=\"M17.41 7.96l-1.37-1.37c-.4-.4-.92-.59-1.43-.59-.52 0-1.04.2-1.43.59L10.3 9.45l-7.72 7.72c-.78.78-.78 2.05 0 2.83L4 21.41c.39.39.9.59 1.41.59.51 0 1.02-.2 1.41-.59l7.78-7.78 2.81-2.81c.8-.78.8-2.07 0-2.86zM5.41 20L4 18.59l7.72-7.72 1.47 1.35L5.41 20z\"/>\n",
              "  </svg>\n",
              "      </button>\n",
              "      \n",
              "  <style>\n",
              "    .colab-df-container {\n",
              "      display:flex;\n",
              "      flex-wrap:wrap;\n",
              "      gap: 12px;\n",
              "    }\n",
              "\n",
              "    .colab-df-convert {\n",
              "      background-color: #E8F0FE;\n",
              "      border: none;\n",
              "      border-radius: 50%;\n",
              "      cursor: pointer;\n",
              "      display: none;\n",
              "      fill: #1967D2;\n",
              "      height: 32px;\n",
              "      padding: 0 0 0 0;\n",
              "      width: 32px;\n",
              "    }\n",
              "\n",
              "    .colab-df-convert:hover {\n",
              "      background-color: #E2EBFA;\n",
              "      box-shadow: 0px 1px 2px rgba(60, 64, 67, 0.3), 0px 1px 3px 1px rgba(60, 64, 67, 0.15);\n",
              "      fill: #174EA6;\n",
              "    }\n",
              "\n",
              "    [theme=dark] .colab-df-convert {\n",
              "      background-color: #3B4455;\n",
              "      fill: #D2E3FC;\n",
              "    }\n",
              "\n",
              "    [theme=dark] .colab-df-convert:hover {\n",
              "      background-color: #434B5C;\n",
              "      box-shadow: 0px 1px 3px 1px rgba(0, 0, 0, 0.15);\n",
              "      filter: drop-shadow(0px 1px 2px rgba(0, 0, 0, 0.3));\n",
              "      fill: #FFFFFF;\n",
              "    }\n",
              "  </style>\n",
              "\n",
              "      <script>\n",
              "        const buttonEl =\n",
              "          document.querySelector('#df-2c170314-b866-4361-9cd7-2ec679ff98ff button.colab-df-convert');\n",
              "        buttonEl.style.display =\n",
              "          google.colab.kernel.accessAllowed ? 'block' : 'none';\n",
              "\n",
              "        async function convertToInteractive(key) {\n",
              "          const element = document.querySelector('#df-2c170314-b866-4361-9cd7-2ec679ff98ff');\n",
              "          const dataTable =\n",
              "            await google.colab.kernel.invokeFunction('convertToInteractive',\n",
              "                                                     [key], {});\n",
              "          if (!dataTable) return;\n",
              "\n",
              "          const docLinkHtml = 'Like what you see? Visit the ' +\n",
              "            '<a target=\"_blank\" href=https://colab.research.google.com/notebooks/data_table.ipynb>data table notebook</a>'\n",
              "            + ' to learn more about interactive tables.';\n",
              "          element.innerHTML = '';\n",
              "          dataTable['output_type'] = 'display_data';\n",
              "          await google.colab.output.renderOutput(dataTable, element);\n",
              "          const docLink = document.createElement('div');\n",
              "          docLink.innerHTML = docLinkHtml;\n",
              "          element.appendChild(docLink);\n",
              "        }\n",
              "      </script>\n",
              "    </div>\n",
              "  </div>\n",
              "  "
            ],
            "text/plain": [
              "Year     2022\n",
              "count  72.000\n",
              "mean    3.092\n",
              "std     0.112\n",
              "min     3.009\n",
              "25%     3.038\n",
              "50%     3.064\n",
              "75%     3.126\n",
              "max     3.915"
            ]
          },
          "metadata": {},
          "execution_count": 18
        }
      ]
    },
    {
      "cell_type": "markdown",
      "source": [
        "And here are the usual stats for those same cars in the prelims."
      ],
      "metadata": {
        "id": "-ABKsXynOd4e"
      }
    },
    {
      "cell_type": "code",
      "source": [
        "prelims_df[prelims_df.Car.isin(finals_df['Car'])].groupby(['Year'])['Time'].describe().round(3).T"
      ],
      "metadata": {
        "colab": {
          "base_uri": "https://localhost:8080/",
          "height": 300
        },
        "id": "1BXGkMcTNzWD",
        "outputId": "dd765661-8560-447b-d6b1-05466ce814dd"
      },
      "execution_count": 21,
      "outputs": [
        {
          "output_type": "execute_result",
          "data": {
            "text/html": [
              "\n",
              "  <div id=\"df-4ab3b4a2-0427-4317-a0fb-acfdb0d6394f\">\n",
              "    <div class=\"colab-df-container\">\n",
              "      <div>\n",
              "<style scoped>\n",
              "    .dataframe tbody tr th:only-of-type {\n",
              "        vertical-align: middle;\n",
              "    }\n",
              "\n",
              "    .dataframe tbody tr th {\n",
              "        vertical-align: top;\n",
              "    }\n",
              "\n",
              "    .dataframe thead th {\n",
              "        text-align: right;\n",
              "    }\n",
              "</style>\n",
              "<table border=\"1\" class=\"dataframe\">\n",
              "  <thead>\n",
              "    <tr style=\"text-align: right;\">\n",
              "      <th>Year</th>\n",
              "      <th>2022</th>\n",
              "    </tr>\n",
              "  </thead>\n",
              "  <tbody>\n",
              "    <tr>\n",
              "      <th>count</th>\n",
              "      <td>66.000</td>\n",
              "    </tr>\n",
              "    <tr>\n",
              "      <th>mean</th>\n",
              "      <td>3.103</td>\n",
              "    </tr>\n",
              "    <tr>\n",
              "      <th>std</th>\n",
              "      <td>0.111</td>\n",
              "    </tr>\n",
              "    <tr>\n",
              "      <th>min</th>\n",
              "      <td>3.003</td>\n",
              "    </tr>\n",
              "    <tr>\n",
              "      <th>25%</th>\n",
              "      <td>3.037</td>\n",
              "    </tr>\n",
              "    <tr>\n",
              "      <th>50%</th>\n",
              "      <td>3.072</td>\n",
              "    </tr>\n",
              "    <tr>\n",
              "      <th>75%</th>\n",
              "      <td>3.142</td>\n",
              "    </tr>\n",
              "    <tr>\n",
              "      <th>max</th>\n",
              "      <td>3.803</td>\n",
              "    </tr>\n",
              "  </tbody>\n",
              "</table>\n",
              "</div>\n",
              "      <button class=\"colab-df-convert\" onclick=\"convertToInteractive('df-4ab3b4a2-0427-4317-a0fb-acfdb0d6394f')\"\n",
              "              title=\"Convert this dataframe to an interactive table.\"\n",
              "              style=\"display:none;\">\n",
              "        \n",
              "  <svg xmlns=\"http://www.w3.org/2000/svg\" height=\"24px\"viewBox=\"0 0 24 24\"\n",
              "       width=\"24px\">\n",
              "    <path d=\"M0 0h24v24H0V0z\" fill=\"none\"/>\n",
              "    <path d=\"M18.56 5.44l.94 2.06.94-2.06 2.06-.94-2.06-.94-.94-2.06-.94 2.06-2.06.94zm-11 1L8.5 8.5l.94-2.06 2.06-.94-2.06-.94L8.5 2.5l-.94 2.06-2.06.94zm10 10l.94 2.06.94-2.06 2.06-.94-2.06-.94-.94-2.06-.94 2.06-2.06.94z\"/><path d=\"M17.41 7.96l-1.37-1.37c-.4-.4-.92-.59-1.43-.59-.52 0-1.04.2-1.43.59L10.3 9.45l-7.72 7.72c-.78.78-.78 2.05 0 2.83L4 21.41c.39.39.9.59 1.41.59.51 0 1.02-.2 1.41-.59l7.78-7.78 2.81-2.81c.8-.78.8-2.07 0-2.86zM5.41 20L4 18.59l7.72-7.72 1.47 1.35L5.41 20z\"/>\n",
              "  </svg>\n",
              "      </button>\n",
              "      \n",
              "  <style>\n",
              "    .colab-df-container {\n",
              "      display:flex;\n",
              "      flex-wrap:wrap;\n",
              "      gap: 12px;\n",
              "    }\n",
              "\n",
              "    .colab-df-convert {\n",
              "      background-color: #E8F0FE;\n",
              "      border: none;\n",
              "      border-radius: 50%;\n",
              "      cursor: pointer;\n",
              "      display: none;\n",
              "      fill: #1967D2;\n",
              "      height: 32px;\n",
              "      padding: 0 0 0 0;\n",
              "      width: 32px;\n",
              "    }\n",
              "\n",
              "    .colab-df-convert:hover {\n",
              "      background-color: #E2EBFA;\n",
              "      box-shadow: 0px 1px 2px rgba(60, 64, 67, 0.3), 0px 1px 3px 1px rgba(60, 64, 67, 0.15);\n",
              "      fill: #174EA6;\n",
              "    }\n",
              "\n",
              "    [theme=dark] .colab-df-convert {\n",
              "      background-color: #3B4455;\n",
              "      fill: #D2E3FC;\n",
              "    }\n",
              "\n",
              "    [theme=dark] .colab-df-convert:hover {\n",
              "      background-color: #434B5C;\n",
              "      box-shadow: 0px 1px 3px 1px rgba(0, 0, 0, 0.15);\n",
              "      filter: drop-shadow(0px 1px 2px rgba(0, 0, 0, 0.3));\n",
              "      fill: #FFFFFF;\n",
              "    }\n",
              "  </style>\n",
              "\n",
              "      <script>\n",
              "        const buttonEl =\n",
              "          document.querySelector('#df-4ab3b4a2-0427-4317-a0fb-acfdb0d6394f button.colab-df-convert');\n",
              "        buttonEl.style.display =\n",
              "          google.colab.kernel.accessAllowed ? 'block' : 'none';\n",
              "\n",
              "        async function convertToInteractive(key) {\n",
              "          const element = document.querySelector('#df-4ab3b4a2-0427-4317-a0fb-acfdb0d6394f');\n",
              "          const dataTable =\n",
              "            await google.colab.kernel.invokeFunction('convertToInteractive',\n",
              "                                                     [key], {});\n",
              "          if (!dataTable) return;\n",
              "\n",
              "          const docLinkHtml = 'Like what you see? Visit the ' +\n",
              "            '<a target=\"_blank\" href=https://colab.research.google.com/notebooks/data_table.ipynb>data table notebook</a>'\n",
              "            + ' to learn more about interactive tables.';\n",
              "          element.innerHTML = '';\n",
              "          dataTable['output_type'] = 'display_data';\n",
              "          await google.colab.output.renderOutput(dataTable, element);\n",
              "          const docLink = document.createElement('div');\n",
              "          docLink.innerHTML = docLinkHtml;\n",
              "          element.appendChild(docLink);\n",
              "        }\n",
              "      </script>\n",
              "    </div>\n",
              "  </div>\n",
              "  "
            ],
            "text/plain": [
              "Year     2022\n",
              "count  66.000\n",
              "mean    3.103\n",
              "std     0.111\n",
              "min     3.003\n",
              "25%     3.037\n",
              "50%     3.072\n",
              "75%     3.142\n",
              "max     3.803"
            ]
          },
          "metadata": {},
          "execution_count": 21
        }
      ]
    },
    {
      "cell_type": "markdown",
      "metadata": {
        "id": "QZvTlv_35V2R"
      },
      "source": [
        "It appears that the cars were faster in the finals than they were in the prelims. Test whether the difference is significant or just chance."
      ]
    },
    {
      "cell_type": "code",
      "metadata": {
        "id": "xgRqdqZB75M5",
        "colab": {
          "base_uri": "https://localhost:8080/"
        },
        "outputId": "caef3855-75fa-4e6a-9328-976c692f087d"
      },
      "source": [
        "stats.ttest_ind(finals_df['Time'],\n",
        "                prelims_df[prelims_df.Car.isin(finals_df['Car'])]['Time'])"
      ],
      "execution_count": 22,
      "outputs": [
        {
          "output_type": "execute_result",
          "data": {
            "text/plain": [
              "Ttest_indResult(statistic=-0.5651952961360159, pvalue=0.5728721200115736)"
            ]
          },
          "metadata": {},
          "execution_count": 22
        }
      ]
    },
    {
      "cell_type": "markdown",
      "metadata": {
        "id": "7Wau-lPr5lgE"
      },
      "source": [
        "Since the pvalue>0.05, we cannot reject the null hypothesis that the samples are drawn from the same process. In other words, the finals were not significantly faster those same cars were in the prelims."
      ]
    },
    {
      "cell_type": "markdown",
      "source": [
        "Average Time by car in the finals."
      ],
      "metadata": {
        "id": "BNqfTKQF1VGi"
      }
    },
    {
      "cell_type": "code",
      "metadata": {
        "id": "woS2rzVn6zNR",
        "colab": {
          "base_uri": "https://localhost:8080/",
          "height": 426
        },
        "outputId": "24daa523-fa46-4a01-d5a9-c16707caf6cc"
      },
      "source": [
        "filter_dict = {'Year' :['2022']}\n",
        "top_times(finals_df, filter_dict, means=True, top=12)"
      ],
      "execution_count": 23,
      "outputs": [
        {
          "output_type": "execute_result",
          "data": {
            "text/html": [
              "\n",
              "  <div id=\"df-48967c3d-3850-4fd4-8c74-5cb2bbc875c3\">\n",
              "    <div class=\"colab-df-container\">\n",
              "      <div>\n",
              "<style scoped>\n",
              "    .dataframe tbody tr th:only-of-type {\n",
              "        vertical-align: middle;\n",
              "    }\n",
              "\n",
              "    .dataframe tbody tr th {\n",
              "        vertical-align: top;\n",
              "    }\n",
              "\n",
              "    .dataframe thead th {\n",
              "        text-align: right;\n",
              "    }\n",
              "</style>\n",
              "<table border=\"1\" class=\"dataframe\">\n",
              "  <thead>\n",
              "    <tr style=\"text-align: right;\">\n",
              "      <th></th>\n",
              "      <th>Car</th>\n",
              "      <th>Last Name</th>\n",
              "      <th>First Name</th>\n",
              "      <th>Time</th>\n",
              "      <th>Stdev</th>\n",
              "      <th>Z-score</th>\n",
              "    </tr>\n",
              "  </thead>\n",
              "  <tbody>\n",
              "    <tr>\n",
              "      <th>1</th>\n",
              "      <td>4</td>\n",
              "      <td>Green</td>\n",
              "      <td>Luke</td>\n",
              "      <td>3.015100</td>\n",
              "      <td>0.004086</td>\n",
              "      <td>-1.178745</td>\n",
              "    </tr>\n",
              "    <tr>\n",
              "      <th>2</th>\n",
              "      <td>13</td>\n",
              "      <td>Schoonover</td>\n",
              "      <td>Daniel</td>\n",
              "      <td>3.025350</td>\n",
              "      <td>0.018700</td>\n",
              "      <td>-1.021318</td>\n",
              "    </tr>\n",
              "    <tr>\n",
              "      <th>3</th>\n",
              "      <td>23</td>\n",
              "      <td>Hein</td>\n",
              "      <td>Owen</td>\n",
              "      <td>3.031583</td>\n",
              "      <td>0.008968</td>\n",
              "      <td>-0.925581</td>\n",
              "    </tr>\n",
              "    <tr>\n",
              "      <th>4</th>\n",
              "      <td>24</td>\n",
              "      <td>Melton</td>\n",
              "      <td>Larry</td>\n",
              "      <td>3.042767</td>\n",
              "      <td>0.012345</td>\n",
              "      <td>-0.753819</td>\n",
              "    </tr>\n",
              "    <tr>\n",
              "      <th>5</th>\n",
              "      <td>5</td>\n",
              "      <td>Evers</td>\n",
              "      <td>Lindel</td>\n",
              "      <td>3.061317</td>\n",
              "      <td>0.005558</td>\n",
              "      <td>-0.468913</td>\n",
              "    </tr>\n",
              "    <tr>\n",
              "      <th>6</th>\n",
              "      <td>26</td>\n",
              "      <td>Martin</td>\n",
              "      <td>Josh</td>\n",
              "      <td>3.068550</td>\n",
              "      <td>0.030027</td>\n",
              "      <td>-0.357817</td>\n",
              "    </tr>\n",
              "    <tr>\n",
              "      <th>7</th>\n",
              "      <td>8</td>\n",
              "      <td>Schoonover</td>\n",
              "      <td>Lacey</td>\n",
              "      <td>3.087167</td>\n",
              "      <td>0.068929</td>\n",
              "      <td>-0.071888</td>\n",
              "    </tr>\n",
              "    <tr>\n",
              "      <th>8</th>\n",
              "      <td>10</td>\n",
              "      <td>Tharp</td>\n",
              "      <td>Stephen</td>\n",
              "      <td>3.108717</td>\n",
              "      <td>0.008745</td>\n",
              "      <td>0.259094</td>\n",
              "    </tr>\n",
              "    <tr>\n",
              "      <th>9</th>\n",
              "      <td>9</td>\n",
              "      <td>Mitchell</td>\n",
              "      <td>Rick</td>\n",
              "      <td>3.131117</td>\n",
              "      <td>0.009132</td>\n",
              "      <td>0.603132</td>\n",
              "    </tr>\n",
              "    <tr>\n",
              "      <th>10</th>\n",
              "      <td>7</td>\n",
              "      <td>Pool</td>\n",
              "      <td>Jason</td>\n",
              "      <td>3.140817</td>\n",
              "      <td>0.026068</td>\n",
              "      <td>0.752112</td>\n",
              "    </tr>\n",
              "    <tr>\n",
              "      <th>11</th>\n",
              "      <td>6</td>\n",
              "      <td>Bynum</td>\n",
              "      <td>Richard</td>\n",
              "      <td>3.153967</td>\n",
              "      <td>0.007841</td>\n",
              "      <td>0.954080</td>\n",
              "    </tr>\n",
              "    <tr>\n",
              "      <th>12</th>\n",
              "      <td>17</td>\n",
              "      <td>Morris</td>\n",
              "      <td>Phillip</td>\n",
              "      <td>3.235717</td>\n",
              "      <td>0.337828</td>\n",
              "      <td>2.209662</td>\n",
              "    </tr>\n",
              "  </tbody>\n",
              "</table>\n",
              "</div>\n",
              "      <button class=\"colab-df-convert\" onclick=\"convertToInteractive('df-48967c3d-3850-4fd4-8c74-5cb2bbc875c3')\"\n",
              "              title=\"Convert this dataframe to an interactive table.\"\n",
              "              style=\"display:none;\">\n",
              "        \n",
              "  <svg xmlns=\"http://www.w3.org/2000/svg\" height=\"24px\"viewBox=\"0 0 24 24\"\n",
              "       width=\"24px\">\n",
              "    <path d=\"M0 0h24v24H0V0z\" fill=\"none\"/>\n",
              "    <path d=\"M18.56 5.44l.94 2.06.94-2.06 2.06-.94-2.06-.94-.94-2.06-.94 2.06-2.06.94zm-11 1L8.5 8.5l.94-2.06 2.06-.94-2.06-.94L8.5 2.5l-.94 2.06-2.06.94zm10 10l.94 2.06.94-2.06 2.06-.94-2.06-.94-.94-2.06-.94 2.06-2.06.94z\"/><path d=\"M17.41 7.96l-1.37-1.37c-.4-.4-.92-.59-1.43-.59-.52 0-1.04.2-1.43.59L10.3 9.45l-7.72 7.72c-.78.78-.78 2.05 0 2.83L4 21.41c.39.39.9.59 1.41.59.51 0 1.02-.2 1.41-.59l7.78-7.78 2.81-2.81c.8-.78.8-2.07 0-2.86zM5.41 20L4 18.59l7.72-7.72 1.47 1.35L5.41 20z\"/>\n",
              "  </svg>\n",
              "      </button>\n",
              "      \n",
              "  <style>\n",
              "    .colab-df-container {\n",
              "      display:flex;\n",
              "      flex-wrap:wrap;\n",
              "      gap: 12px;\n",
              "    }\n",
              "\n",
              "    .colab-df-convert {\n",
              "      background-color: #E8F0FE;\n",
              "      border: none;\n",
              "      border-radius: 50%;\n",
              "      cursor: pointer;\n",
              "      display: none;\n",
              "      fill: #1967D2;\n",
              "      height: 32px;\n",
              "      padding: 0 0 0 0;\n",
              "      width: 32px;\n",
              "    }\n",
              "\n",
              "    .colab-df-convert:hover {\n",
              "      background-color: #E2EBFA;\n",
              "      box-shadow: 0px 1px 2px rgba(60, 64, 67, 0.3), 0px 1px 3px 1px rgba(60, 64, 67, 0.15);\n",
              "      fill: #174EA6;\n",
              "    }\n",
              "\n",
              "    [theme=dark] .colab-df-convert {\n",
              "      background-color: #3B4455;\n",
              "      fill: #D2E3FC;\n",
              "    }\n",
              "\n",
              "    [theme=dark] .colab-df-convert:hover {\n",
              "      background-color: #434B5C;\n",
              "      box-shadow: 0px 1px 3px 1px rgba(0, 0, 0, 0.15);\n",
              "      filter: drop-shadow(0px 1px 2px rgba(0, 0, 0, 0.3));\n",
              "      fill: #FFFFFF;\n",
              "    }\n",
              "  </style>\n",
              "\n",
              "      <script>\n",
              "        const buttonEl =\n",
              "          document.querySelector('#df-48967c3d-3850-4fd4-8c74-5cb2bbc875c3 button.colab-df-convert');\n",
              "        buttonEl.style.display =\n",
              "          google.colab.kernel.accessAllowed ? 'block' : 'none';\n",
              "\n",
              "        async function convertToInteractive(key) {\n",
              "          const element = document.querySelector('#df-48967c3d-3850-4fd4-8c74-5cb2bbc875c3');\n",
              "          const dataTable =\n",
              "            await google.colab.kernel.invokeFunction('convertToInteractive',\n",
              "                                                     [key], {});\n",
              "          if (!dataTable) return;\n",
              "\n",
              "          const docLinkHtml = 'Like what you see? Visit the ' +\n",
              "            '<a target=\"_blank\" href=https://colab.research.google.com/notebooks/data_table.ipynb>data table notebook</a>'\n",
              "            + ' to learn more about interactive tables.';\n",
              "          element.innerHTML = '';\n",
              "          dataTable['output_type'] = 'display_data';\n",
              "          await google.colab.output.renderOutput(dataTable, element);\n",
              "          const docLink = document.createElement('div');\n",
              "          docLink.innerHTML = docLinkHtml;\n",
              "          element.appendChild(docLink);\n",
              "        }\n",
              "      </script>\n",
              "    </div>\n",
              "  </div>\n",
              "  "
            ],
            "text/plain": [
              "    Car   Last Name First Name      Time     Stdev   Z-score\n",
              "1     4       Green       Luke  3.015100  0.004086 -1.178745\n",
              "2    13  Schoonover     Daniel  3.025350  0.018700 -1.021318\n",
              "3    23        Hein       Owen  3.031583  0.008968 -0.925581\n",
              "4    24      Melton      Larry  3.042767  0.012345 -0.753819\n",
              "5     5       Evers     Lindel  3.061317  0.005558 -0.468913\n",
              "6    26      Martin       Josh  3.068550  0.030027 -0.357817\n",
              "7     8  Schoonover      Lacey  3.087167  0.068929 -0.071888\n",
              "8    10       Tharp    Stephen  3.108717  0.008745  0.259094\n",
              "9     9    Mitchell       Rick  3.131117  0.009132  0.603132\n",
              "10    7        Pool      Jason  3.140817  0.026068  0.752112\n",
              "11    6       Bynum    Richard  3.153967  0.007841  0.954080\n",
              "12   17      Morris    Phillip  3.235717  0.337828  2.209662"
            ]
          },
          "metadata": {},
          "execution_count": 23
        }
      ]
    },
    {
      "cell_type": "markdown",
      "metadata": {
        "id": "fpr8k4gEjLi5"
      },
      "source": [
        "And here are the top 12 individual Times in the finals."
      ]
    },
    {
      "cell_type": "code",
      "metadata": {
        "id": "dmIGP45C65uv",
        "colab": {
          "base_uri": "https://localhost:8080/",
          "height": 426
        },
        "outputId": "3edae5f3-ce99-4f80-c4c4-4b3126725bb6"
      },
      "source": [
        "filter_dict = {'Year' :['2022']}\n",
        "top_times(finals_df, filter_dict, means=False, top=12)"
      ],
      "execution_count": 24,
      "outputs": [
        {
          "output_type": "execute_result",
          "data": {
            "text/html": [
              "\n",
              "  <div id=\"df-6dcbfa21-f30d-43c8-aa25-3cd21faedb53\">\n",
              "    <div class=\"colab-df-container\">\n",
              "      <div>\n",
              "<style scoped>\n",
              "    .dataframe tbody tr th:only-of-type {\n",
              "        vertical-align: middle;\n",
              "    }\n",
              "\n",
              "    .dataframe tbody tr th {\n",
              "        vertical-align: top;\n",
              "    }\n",
              "\n",
              "    .dataframe thead th {\n",
              "        text-align: right;\n",
              "    }\n",
              "</style>\n",
              "<table border=\"1\" class=\"dataframe\">\n",
              "  <thead>\n",
              "    <tr style=\"text-align: right;\">\n",
              "      <th></th>\n",
              "      <th>index</th>\n",
              "      <th>Car</th>\n",
              "      <th>Last Name</th>\n",
              "      <th>First Name</th>\n",
              "      <th>Lane</th>\n",
              "      <th>Time</th>\n",
              "      <th>Z-score</th>\n",
              "    </tr>\n",
              "  </thead>\n",
              "  <tbody>\n",
              "    <tr>\n",
              "      <th>1</th>\n",
              "      <td>71</td>\n",
              "      <td>4</td>\n",
              "      <td>Green</td>\n",
              "      <td>Luke</td>\n",
              "      <td>6</td>\n",
              "      <td>3.0087</td>\n",
              "      <td>-0.744176</td>\n",
              "    </tr>\n",
              "    <tr>\n",
              "      <th>2</th>\n",
              "      <td>61</td>\n",
              "      <td>4</td>\n",
              "      <td>Green</td>\n",
              "      <td>Luke</td>\n",
              "      <td>2</td>\n",
              "      <td>3.0117</td>\n",
              "      <td>-0.717326</td>\n",
              "    </tr>\n",
              "    <tr>\n",
              "      <th>3</th>\n",
              "      <td>65</td>\n",
              "      <td>26</td>\n",
              "      <td>Martin</td>\n",
              "      <td>Josh</td>\n",
              "      <td>6</td>\n",
              "      <td>3.0121</td>\n",
              "      <td>-0.713746</td>\n",
              "    </tr>\n",
              "    <tr>\n",
              "      <th>4</th>\n",
              "      <td>64</td>\n",
              "      <td>13</td>\n",
              "      <td>Schoonover</td>\n",
              "      <td>Daniel</td>\n",
              "      <td>5</td>\n",
              "      <td>3.0121</td>\n",
              "      <td>-0.713746</td>\n",
              "    </tr>\n",
              "    <tr>\n",
              "      <th>5</th>\n",
              "      <td>42</td>\n",
              "      <td>13</td>\n",
              "      <td>Schoonover</td>\n",
              "      <td>Daniel</td>\n",
              "      <td>1</td>\n",
              "      <td>3.0132</td>\n",
              "      <td>-0.703901</td>\n",
              "    </tr>\n",
              "    <tr>\n",
              "      <th>6</th>\n",
              "      <td>31</td>\n",
              "      <td>13</td>\n",
              "      <td>Schoonover</td>\n",
              "      <td>Daniel</td>\n",
              "      <td>2</td>\n",
              "      <td>3.0144</td>\n",
              "      <td>-0.693160</td>\n",
              "    </tr>\n",
              "    <tr>\n",
              "      <th>7</th>\n",
              "      <td>41</td>\n",
              "      <td>13</td>\n",
              "      <td>Schoonover</td>\n",
              "      <td>Daniel</td>\n",
              "      <td>6</td>\n",
              "      <td>3.0154</td>\n",
              "      <td>-0.684210</td>\n",
              "    </tr>\n",
              "    <tr>\n",
              "      <th>8</th>\n",
              "      <td>22</td>\n",
              "      <td>4</td>\n",
              "      <td>Green</td>\n",
              "      <td>Luke</td>\n",
              "      <td>5</td>\n",
              "      <td>3.0156</td>\n",
              "      <td>-0.682420</td>\n",
              "    </tr>\n",
              "    <tr>\n",
              "      <th>9</th>\n",
              "      <td>54</td>\n",
              "      <td>23</td>\n",
              "      <td>Hein</td>\n",
              "      <td>Owen</td>\n",
              "      <td>1</td>\n",
              "      <td>3.0160</td>\n",
              "      <td>-0.678840</td>\n",
              "    </tr>\n",
              "    <tr>\n",
              "      <th>10</th>\n",
              "      <td>0</td>\n",
              "      <td>4</td>\n",
              "      <td>Green</td>\n",
              "      <td>Luke</td>\n",
              "      <td>1</td>\n",
              "      <td>3.0171</td>\n",
              "      <td>-0.668995</td>\n",
              "    </tr>\n",
              "    <tr>\n",
              "      <th>11</th>\n",
              "      <td>50</td>\n",
              "      <td>4</td>\n",
              "      <td>Green</td>\n",
              "      <td>Luke</td>\n",
              "      <td>3</td>\n",
              "      <td>3.0186</td>\n",
              "      <td>-0.655570</td>\n",
              "    </tr>\n",
              "    <tr>\n",
              "      <th>12</th>\n",
              "      <td>39</td>\n",
              "      <td>4</td>\n",
              "      <td>Green</td>\n",
              "      <td>Luke</td>\n",
              "      <td>4</td>\n",
              "      <td>3.0189</td>\n",
              "      <td>-0.652885</td>\n",
              "    </tr>\n",
              "  </tbody>\n",
              "</table>\n",
              "</div>\n",
              "      <button class=\"colab-df-convert\" onclick=\"convertToInteractive('df-6dcbfa21-f30d-43c8-aa25-3cd21faedb53')\"\n",
              "              title=\"Convert this dataframe to an interactive table.\"\n",
              "              style=\"display:none;\">\n",
              "        \n",
              "  <svg xmlns=\"http://www.w3.org/2000/svg\" height=\"24px\"viewBox=\"0 0 24 24\"\n",
              "       width=\"24px\">\n",
              "    <path d=\"M0 0h24v24H0V0z\" fill=\"none\"/>\n",
              "    <path d=\"M18.56 5.44l.94 2.06.94-2.06 2.06-.94-2.06-.94-.94-2.06-.94 2.06-2.06.94zm-11 1L8.5 8.5l.94-2.06 2.06-.94-2.06-.94L8.5 2.5l-.94 2.06-2.06.94zm10 10l.94 2.06.94-2.06 2.06-.94-2.06-.94-.94-2.06-.94 2.06-2.06.94z\"/><path d=\"M17.41 7.96l-1.37-1.37c-.4-.4-.92-.59-1.43-.59-.52 0-1.04.2-1.43.59L10.3 9.45l-7.72 7.72c-.78.78-.78 2.05 0 2.83L4 21.41c.39.39.9.59 1.41.59.51 0 1.02-.2 1.41-.59l7.78-7.78 2.81-2.81c.8-.78.8-2.07 0-2.86zM5.41 20L4 18.59l7.72-7.72 1.47 1.35L5.41 20z\"/>\n",
              "  </svg>\n",
              "      </button>\n",
              "      \n",
              "  <style>\n",
              "    .colab-df-container {\n",
              "      display:flex;\n",
              "      flex-wrap:wrap;\n",
              "      gap: 12px;\n",
              "    }\n",
              "\n",
              "    .colab-df-convert {\n",
              "      background-color: #E8F0FE;\n",
              "      border: none;\n",
              "      border-radius: 50%;\n",
              "      cursor: pointer;\n",
              "      display: none;\n",
              "      fill: #1967D2;\n",
              "      height: 32px;\n",
              "      padding: 0 0 0 0;\n",
              "      width: 32px;\n",
              "    }\n",
              "\n",
              "    .colab-df-convert:hover {\n",
              "      background-color: #E2EBFA;\n",
              "      box-shadow: 0px 1px 2px rgba(60, 64, 67, 0.3), 0px 1px 3px 1px rgba(60, 64, 67, 0.15);\n",
              "      fill: #174EA6;\n",
              "    }\n",
              "\n",
              "    [theme=dark] .colab-df-convert {\n",
              "      background-color: #3B4455;\n",
              "      fill: #D2E3FC;\n",
              "    }\n",
              "\n",
              "    [theme=dark] .colab-df-convert:hover {\n",
              "      background-color: #434B5C;\n",
              "      box-shadow: 0px 1px 3px 1px rgba(0, 0, 0, 0.15);\n",
              "      filter: drop-shadow(0px 1px 2px rgba(0, 0, 0, 0.3));\n",
              "      fill: #FFFFFF;\n",
              "    }\n",
              "  </style>\n",
              "\n",
              "      <script>\n",
              "        const buttonEl =\n",
              "          document.querySelector('#df-6dcbfa21-f30d-43c8-aa25-3cd21faedb53 button.colab-df-convert');\n",
              "        buttonEl.style.display =\n",
              "          google.colab.kernel.accessAllowed ? 'block' : 'none';\n",
              "\n",
              "        async function convertToInteractive(key) {\n",
              "          const element = document.querySelector('#df-6dcbfa21-f30d-43c8-aa25-3cd21faedb53');\n",
              "          const dataTable =\n",
              "            await google.colab.kernel.invokeFunction('convertToInteractive',\n",
              "                                                     [key], {});\n",
              "          if (!dataTable) return;\n",
              "\n",
              "          const docLinkHtml = 'Like what you see? Visit the ' +\n",
              "            '<a target=\"_blank\" href=https://colab.research.google.com/notebooks/data_table.ipynb>data table notebook</a>'\n",
              "            + ' to learn more about interactive tables.';\n",
              "          element.innerHTML = '';\n",
              "          dataTable['output_type'] = 'display_data';\n",
              "          await google.colab.output.renderOutput(dataTable, element);\n",
              "          const docLink = document.createElement('div');\n",
              "          docLink.innerHTML = docLinkHtml;\n",
              "          element.appendChild(docLink);\n",
              "        }\n",
              "      </script>\n",
              "    </div>\n",
              "  </div>\n",
              "  "
            ],
            "text/plain": [
              "    index Car   Last Name First Name  Lane    Time   Z-score\n",
              "1      71   4       Green       Luke     6  3.0087 -0.744176\n",
              "2      61   4       Green       Luke     2  3.0117 -0.717326\n",
              "3      65  26      Martin       Josh     6  3.0121 -0.713746\n",
              "4      64  13  Schoonover     Daniel     5  3.0121 -0.713746\n",
              "5      42  13  Schoonover     Daniel     1  3.0132 -0.703901\n",
              "6      31  13  Schoonover     Daniel     2  3.0144 -0.693160\n",
              "7      41  13  Schoonover     Daniel     6  3.0154 -0.684210\n",
              "8      22   4       Green       Luke     5  3.0156 -0.682420\n",
              "9      54  23        Hein       Owen     1  3.0160 -0.678840\n",
              "10      0   4       Green       Luke     1  3.0171 -0.668995\n",
              "11     50   4       Green       Luke     3  3.0186 -0.655570\n",
              "12     39   4       Green       Luke     4  3.0189 -0.652885"
            ]
          },
          "metadata": {},
          "execution_count": 24
        }
      ]
    },
    {
      "cell_type": "markdown",
      "metadata": {
        "id": "T-QfbUiCjm-1"
      },
      "source": [
        "### Lanes, Ages and the Schoonover Effect"
      ]
    },
    {
      "cell_type": "markdown",
      "metadata": {
        "id": "xZWL_Lhjncos"
      },
      "source": [
        "Are there any differences among the lanes? First run the usual stats and plot the distributions."
      ]
    },
    {
      "cell_type": "code",
      "metadata": {
        "id": "WLHIuZfoncot",
        "colab": {
          "base_uri": "https://localhost:8080/",
          "height": 300
        },
        "outputId": "8d8e66d3-163a-4bb0-bfa6-08aa425d05b7"
      },
      "source": [
        "lanes_df = prelims_df[prelims_df.Year.isin(['2022'])][['Lane','Time']]\n",
        "lanes_df.groupby(['Lane']).describe().round(4).T"
      ],
      "execution_count": 25,
      "outputs": [
        {
          "output_type": "execute_result",
          "data": {
            "text/html": [
              "\n",
              "  <div id=\"df-5e66d2e9-58df-429f-b54c-4ca80155c9e0\">\n",
              "    <div class=\"colab-df-container\">\n",
              "      <div>\n",
              "<style scoped>\n",
              "    .dataframe tbody tr th:only-of-type {\n",
              "        vertical-align: middle;\n",
              "    }\n",
              "\n",
              "    .dataframe tbody tr th {\n",
              "        vertical-align: top;\n",
              "    }\n",
              "\n",
              "    .dataframe thead th {\n",
              "        text-align: right;\n",
              "    }\n",
              "</style>\n",
              "<table border=\"1\" class=\"dataframe\">\n",
              "  <thead>\n",
              "    <tr style=\"text-align: right;\">\n",
              "      <th></th>\n",
              "      <th>Lane</th>\n",
              "      <th>1</th>\n",
              "      <th>2</th>\n",
              "      <th>3</th>\n",
              "      <th>4</th>\n",
              "      <th>5</th>\n",
              "      <th>6</th>\n",
              "    </tr>\n",
              "  </thead>\n",
              "  <tbody>\n",
              "    <tr>\n",
              "      <th rowspan=\"8\" valign=\"top\">Time</th>\n",
              "      <th>count</th>\n",
              "      <td>29.0000</td>\n",
              "      <td>29.0000</td>\n",
              "      <td>29.0000</td>\n",
              "      <td>29.0000</td>\n",
              "      <td>29.0000</td>\n",
              "      <td>29.0000</td>\n",
              "    </tr>\n",
              "    <tr>\n",
              "      <th>mean</th>\n",
              "      <td>3.4908</td>\n",
              "      <td>3.4790</td>\n",
              "      <td>3.4560</td>\n",
              "      <td>3.4525</td>\n",
              "      <td>3.6345</td>\n",
              "      <td>3.4500</td>\n",
              "    </tr>\n",
              "    <tr>\n",
              "      <th>std</th>\n",
              "      <td>0.5905</td>\n",
              "      <td>0.5472</td>\n",
              "      <td>0.4853</td>\n",
              "      <td>0.5084</td>\n",
              "      <td>1.3238</td>\n",
              "      <td>0.5570</td>\n",
              "    </tr>\n",
              "    <tr>\n",
              "      <th>min</th>\n",
              "      <td>3.0149</td>\n",
              "      <td>3.0160</td>\n",
              "      <td>3.0133</td>\n",
              "      <td>3.0100</td>\n",
              "      <td>3.0034</td>\n",
              "      <td>3.0037</td>\n",
              "    </tr>\n",
              "    <tr>\n",
              "      <th>25%</th>\n",
              "      <td>3.0773</td>\n",
              "      <td>3.0996</td>\n",
              "      <td>3.1309</td>\n",
              "      <td>3.1224</td>\n",
              "      <td>3.0906</td>\n",
              "      <td>3.0949</td>\n",
              "    </tr>\n",
              "    <tr>\n",
              "      <th>50%</th>\n",
              "      <td>3.2301</td>\n",
              "      <td>3.2628</td>\n",
              "      <td>3.2645</td>\n",
              "      <td>3.2319</td>\n",
              "      <td>3.2405</td>\n",
              "      <td>3.2299</td>\n",
              "    </tr>\n",
              "    <tr>\n",
              "      <th>75%</th>\n",
              "      <td>3.6444</td>\n",
              "      <td>3.6985</td>\n",
              "      <td>3.7000</td>\n",
              "      <td>3.6396</td>\n",
              "      <td>3.4126</td>\n",
              "      <td>3.3820</td>\n",
              "    </tr>\n",
              "    <tr>\n",
              "      <th>max</th>\n",
              "      <td>5.0341</td>\n",
              "      <td>4.8171</td>\n",
              "      <td>4.6217</td>\n",
              "      <td>4.7000</td>\n",
              "      <td>9.9999</td>\n",
              "      <td>4.9025</td>\n",
              "    </tr>\n",
              "  </tbody>\n",
              "</table>\n",
              "</div>\n",
              "      <button class=\"colab-df-convert\" onclick=\"convertToInteractive('df-5e66d2e9-58df-429f-b54c-4ca80155c9e0')\"\n",
              "              title=\"Convert this dataframe to an interactive table.\"\n",
              "              style=\"display:none;\">\n",
              "        \n",
              "  <svg xmlns=\"http://www.w3.org/2000/svg\" height=\"24px\"viewBox=\"0 0 24 24\"\n",
              "       width=\"24px\">\n",
              "    <path d=\"M0 0h24v24H0V0z\" fill=\"none\"/>\n",
              "    <path d=\"M18.56 5.44l.94 2.06.94-2.06 2.06-.94-2.06-.94-.94-2.06-.94 2.06-2.06.94zm-11 1L8.5 8.5l.94-2.06 2.06-.94-2.06-.94L8.5 2.5l-.94 2.06-2.06.94zm10 10l.94 2.06.94-2.06 2.06-.94-2.06-.94-.94-2.06-.94 2.06-2.06.94z\"/><path d=\"M17.41 7.96l-1.37-1.37c-.4-.4-.92-.59-1.43-.59-.52 0-1.04.2-1.43.59L10.3 9.45l-7.72 7.72c-.78.78-.78 2.05 0 2.83L4 21.41c.39.39.9.59 1.41.59.51 0 1.02-.2 1.41-.59l7.78-7.78 2.81-2.81c.8-.78.8-2.07 0-2.86zM5.41 20L4 18.59l7.72-7.72 1.47 1.35L5.41 20z\"/>\n",
              "  </svg>\n",
              "      </button>\n",
              "      \n",
              "  <style>\n",
              "    .colab-df-container {\n",
              "      display:flex;\n",
              "      flex-wrap:wrap;\n",
              "      gap: 12px;\n",
              "    }\n",
              "\n",
              "    .colab-df-convert {\n",
              "      background-color: #E8F0FE;\n",
              "      border: none;\n",
              "      border-radius: 50%;\n",
              "      cursor: pointer;\n",
              "      display: none;\n",
              "      fill: #1967D2;\n",
              "      height: 32px;\n",
              "      padding: 0 0 0 0;\n",
              "      width: 32px;\n",
              "    }\n",
              "\n",
              "    .colab-df-convert:hover {\n",
              "      background-color: #E2EBFA;\n",
              "      box-shadow: 0px 1px 2px rgba(60, 64, 67, 0.3), 0px 1px 3px 1px rgba(60, 64, 67, 0.15);\n",
              "      fill: #174EA6;\n",
              "    }\n",
              "\n",
              "    [theme=dark] .colab-df-convert {\n",
              "      background-color: #3B4455;\n",
              "      fill: #D2E3FC;\n",
              "    }\n",
              "\n",
              "    [theme=dark] .colab-df-convert:hover {\n",
              "      background-color: #434B5C;\n",
              "      box-shadow: 0px 1px 3px 1px rgba(0, 0, 0, 0.15);\n",
              "      filter: drop-shadow(0px 1px 2px rgba(0, 0, 0, 0.3));\n",
              "      fill: #FFFFFF;\n",
              "    }\n",
              "  </style>\n",
              "\n",
              "      <script>\n",
              "        const buttonEl =\n",
              "          document.querySelector('#df-5e66d2e9-58df-429f-b54c-4ca80155c9e0 button.colab-df-convert');\n",
              "        buttonEl.style.display =\n",
              "          google.colab.kernel.accessAllowed ? 'block' : 'none';\n",
              "\n",
              "        async function convertToInteractive(key) {\n",
              "          const element = document.querySelector('#df-5e66d2e9-58df-429f-b54c-4ca80155c9e0');\n",
              "          const dataTable =\n",
              "            await google.colab.kernel.invokeFunction('convertToInteractive',\n",
              "                                                     [key], {});\n",
              "          if (!dataTable) return;\n",
              "\n",
              "          const docLinkHtml = 'Like what you see? Visit the ' +\n",
              "            '<a target=\"_blank\" href=https://colab.research.google.com/notebooks/data_table.ipynb>data table notebook</a>'\n",
              "            + ' to learn more about interactive tables.';\n",
              "          element.innerHTML = '';\n",
              "          dataTable['output_type'] = 'display_data';\n",
              "          await google.colab.output.renderOutput(dataTable, element);\n",
              "          const docLink = document.createElement('div');\n",
              "          docLink.innerHTML = docLinkHtml;\n",
              "          element.appendChild(docLink);\n",
              "        }\n",
              "      </script>\n",
              "    </div>\n",
              "  </div>\n",
              "  "
            ],
            "text/plain": [
              "Lane              1        2        3        4        5        6\n",
              "Time count  29.0000  29.0000  29.0000  29.0000  29.0000  29.0000\n",
              "     mean    3.4908   3.4790   3.4560   3.4525   3.6345   3.4500\n",
              "     std     0.5905   0.5472   0.4853   0.5084   1.3238   0.5570\n",
              "     min     3.0149   3.0160   3.0133   3.0100   3.0034   3.0037\n",
              "     25%     3.0773   3.0996   3.1309   3.1224   3.0906   3.0949\n",
              "     50%     3.2301   3.2628   3.2645   3.2319   3.2405   3.2299\n",
              "     75%     3.6444   3.6985   3.7000   3.6396   3.4126   3.3820\n",
              "     max     5.0341   4.8171   4.6217   4.7000   9.9999   4.9025"
            ]
          },
          "metadata": {},
          "execution_count": 25
        }
      ]
    },
    {
      "cell_type": "code",
      "metadata": {
        "id": "zSZG171Es60G",
        "colab": {
          "base_uri": "https://localhost:8080/",
          "height": 452
        },
        "outputId": "9501a2be-5cd4-4be1-83dd-b08e416125d2"
      },
      "source": [
        "comps = {'Lane' : [1,2,3,4,5,6]}\n",
        "compare_hist(lanes_df, comps, title=\"Lanes\",\n",
        "         hist=False, norm_hist=True, kde=True)"
      ],
      "execution_count": 26,
      "outputs": [
        {
          "output_type": "display_data",
          "data": {
            "image/png": "[encoded data removed]",
            "text/plain": [
              "<Figure size 720x450 with 1 Axes>"
            ]
          },
          "metadata": {}
        }
      ]
    },
    {
      "cell_type": "markdown",
      "source": [
        "It looks like lane 5 is a slower and more spread out than the others. Do we see this when comparing the lane results of the fastest car?"
      ],
      "metadata": {
        "id": "6T5TycEz3nf7"
      }
    },
    {
      "cell_type": "code",
      "source": [
        "filter_dict = {'Year' :['2022'], 'Car':[23]}\n",
        "top_times(prelims_df, filter_dict, means=False)"
      ],
      "metadata": {
        "colab": {
          "base_uri": "https://localhost:8080/",
          "height": 238
        },
        "id": "aVPOsYaMrRes",
        "outputId": "4599c645-5d58-488e-adaa-d82185e8285a"
      },
      "execution_count": 27,
      "outputs": [
        {
          "output_type": "execute_result",
          "data": {
            "text/html": [
              "\n",
              "  <div id=\"df-a99ec42d-6637-4b74-a1a6-c1c42fe0083d\">\n",
              "    <div class=\"colab-df-container\">\n",
              "      <div>\n",
              "<style scoped>\n",
              "    .dataframe tbody tr th:only-of-type {\n",
              "        vertical-align: middle;\n",
              "    }\n",
              "\n",
              "    .dataframe tbody tr th {\n",
              "        vertical-align: top;\n",
              "    }\n",
              "\n",
              "    .dataframe thead th {\n",
              "        text-align: right;\n",
              "    }\n",
              "</style>\n",
              "<table border=\"1\" class=\"dataframe\">\n",
              "  <thead>\n",
              "    <tr style=\"text-align: right;\">\n",
              "      <th></th>\n",
              "      <th>index</th>\n",
              "      <th>Car</th>\n",
              "      <th>Last Name</th>\n",
              "      <th>First Name</th>\n",
              "      <th>Lane</th>\n",
              "      <th>Time</th>\n",
              "      <th>Z-score</th>\n",
              "    </tr>\n",
              "  </thead>\n",
              "  <tbody>\n",
              "    <tr>\n",
              "      <th>1</th>\n",
              "      <td>124</td>\n",
              "      <td>23</td>\n",
              "      <td>Hein</td>\n",
              "      <td>Owen</td>\n",
              "      <td>5</td>\n",
              "      <td>3.0034</td>\n",
              "      <td>-1.126479</td>\n",
              "    </tr>\n",
              "    <tr>\n",
              "      <th>2</th>\n",
              "      <td>131</td>\n",
              "      <td>23</td>\n",
              "      <td>Hein</td>\n",
              "      <td>Owen</td>\n",
              "      <td>6</td>\n",
              "      <td>3.0037</td>\n",
              "      <td>-1.082110</td>\n",
              "    </tr>\n",
              "    <tr>\n",
              "      <th>3</th>\n",
              "      <td>117</td>\n",
              "      <td>23</td>\n",
              "      <td>Hein</td>\n",
              "      <td>Owen</td>\n",
              "      <td>4</td>\n",
              "      <td>3.0100</td>\n",
              "      <td>-0.150361</td>\n",
              "    </tr>\n",
              "    <tr>\n",
              "      <th>4</th>\n",
              "      <td>110</td>\n",
              "      <td>23</td>\n",
              "      <td>Hein</td>\n",
              "      <td>Owen</td>\n",
              "      <td>3</td>\n",
              "      <td>3.0133</td>\n",
              "      <td>0.337697</td>\n",
              "    </tr>\n",
              "    <tr>\n",
              "      <th>5</th>\n",
              "      <td>132</td>\n",
              "      <td>23</td>\n",
              "      <td>Hein</td>\n",
              "      <td>Owen</td>\n",
              "      <td>1</td>\n",
              "      <td>3.0149</td>\n",
              "      <td>0.574332</td>\n",
              "    </tr>\n",
              "    <tr>\n",
              "      <th>6</th>\n",
              "      <td>139</td>\n",
              "      <td>23</td>\n",
              "      <td>Hein</td>\n",
              "      <td>Owen</td>\n",
              "      <td>2</td>\n",
              "      <td>3.0208</td>\n",
              "      <td>1.446921</td>\n",
              "    </tr>\n",
              "  </tbody>\n",
              "</table>\n",
              "</div>\n",
              "      <button class=\"colab-df-convert\" onclick=\"convertToInteractive('df-a99ec42d-6637-4b74-a1a6-c1c42fe0083d')\"\n",
              "              title=\"Convert this dataframe to an interactive table.\"\n",
              "              style=\"display:none;\">\n",
              "        \n",
              "  <svg xmlns=\"http://www.w3.org/2000/svg\" height=\"24px\"viewBox=\"0 0 24 24\"\n",
              "       width=\"24px\">\n",
              "    <path d=\"M0 0h24v24H0V0z\" fill=\"none\"/>\n",
              "    <path d=\"M18.56 5.44l.94 2.06.94-2.06 2.06-.94-2.06-.94-.94-2.06-.94 2.06-2.06.94zm-11 1L8.5 8.5l.94-2.06 2.06-.94-2.06-.94L8.5 2.5l-.94 2.06-2.06.94zm10 10l.94 2.06.94-2.06 2.06-.94-2.06-.94-.94-2.06-.94 2.06-2.06.94z\"/><path d=\"M17.41 7.96l-1.37-1.37c-.4-.4-.92-.59-1.43-.59-.52 0-1.04.2-1.43.59L10.3 9.45l-7.72 7.72c-.78.78-.78 2.05 0 2.83L4 21.41c.39.39.9.59 1.41.59.51 0 1.02-.2 1.41-.59l7.78-7.78 2.81-2.81c.8-.78.8-2.07 0-2.86zM5.41 20L4 18.59l7.72-7.72 1.47 1.35L5.41 20z\"/>\n",
              "  </svg>\n",
              "      </button>\n",
              "      \n",
              "  <style>\n",
              "    .colab-df-container {\n",
              "      display:flex;\n",
              "      flex-wrap:wrap;\n",
              "      gap: 12px;\n",
              "    }\n",
              "\n",
              "    .colab-df-convert {\n",
              "      background-color: #E8F0FE;\n",
              "      border: none;\n",
              "      border-radius: 50%;\n",
              "      cursor: pointer;\n",
              "      display: none;\n",
              "      fill: #1967D2;\n",
              "      height: 32px;\n",
              "      padding: 0 0 0 0;\n",
              "      width: 32px;\n",
              "    }\n",
              "\n",
              "    .colab-df-convert:hover {\n",
              "      background-color: #E2EBFA;\n",
              "      box-shadow: 0px 1px 2px rgba(60, 64, 67, 0.3), 0px 1px 3px 1px rgba(60, 64, 67, 0.15);\n",
              "      fill: #174EA6;\n",
              "    }\n",
              "\n",
              "    [theme=dark] .colab-df-convert {\n",
              "      background-color: #3B4455;\n",
              "      fill: #D2E3FC;\n",
              "    }\n",
              "\n",
              "    [theme=dark] .colab-df-convert:hover {\n",
              "      background-color: #434B5C;\n",
              "      box-shadow: 0px 1px 3px 1px rgba(0, 0, 0, 0.15);\n",
              "      filter: drop-shadow(0px 1px 2px rgba(0, 0, 0, 0.3));\n",
              "      fill: #FFFFFF;\n",
              "    }\n",
              "  </style>\n",
              "\n",
              "      <script>\n",
              "        const buttonEl =\n",
              "          document.querySelector('#df-a99ec42d-6637-4b74-a1a6-c1c42fe0083d button.colab-df-convert');\n",
              "        buttonEl.style.display =\n",
              "          google.colab.kernel.accessAllowed ? 'block' : 'none';\n",
              "\n",
              "        async function convertToInteractive(key) {\n",
              "          const element = document.querySelector('#df-a99ec42d-6637-4b74-a1a6-c1c42fe0083d');\n",
              "          const dataTable =\n",
              "            await google.colab.kernel.invokeFunction('convertToInteractive',\n",
              "                                                     [key], {});\n",
              "          if (!dataTable) return;\n",
              "\n",
              "          const docLinkHtml = 'Like what you see? Visit the ' +\n",
              "            '<a target=\"_blank\" href=https://colab.research.google.com/notebooks/data_table.ipynb>data table notebook</a>'\n",
              "            + ' to learn more about interactive tables.';\n",
              "          element.innerHTML = '';\n",
              "          dataTable['output_type'] = 'display_data';\n",
              "          await google.colab.output.renderOutput(dataTable, element);\n",
              "          const docLink = document.createElement('div');\n",
              "          docLink.innerHTML = docLinkHtml;\n",
              "          element.appendChild(docLink);\n",
              "        }\n",
              "      </script>\n",
              "    </div>\n",
              "  </div>\n",
              "  "
            ],
            "text/plain": [
              "   index Car Last Name First Name  Lane    Time   Z-score\n",
              "1    124  23      Hein       Owen     5  3.0034 -1.126479\n",
              "2    131  23      Hein       Owen     6  3.0037 -1.082110\n",
              "3    117  23      Hein       Owen     4  3.0100 -0.150361\n",
              "4    110  23      Hein       Owen     3  3.0133  0.337697\n",
              "5    132  23      Hein       Owen     1  3.0149  0.574332\n",
              "6    139  23      Hein       Owen     2  3.0208  1.446921"
            ]
          },
          "metadata": {},
          "execution_count": 27
        }
      ]
    },
    {
      "cell_type": "markdown",
      "metadata": {
        "id": "CmIEgVatnco1"
      },
      "source": [
        "Next, run a test between each pair of lanes to determine if the lane means are significantly different."
      ]
    },
    {
      "cell_type": "code",
      "metadata": {
        "id": "Kd5lNRzdnco4",
        "colab": {
          "base_uri": "https://localhost:8080/",
          "height": 520
        },
        "outputId": "b4d4dee1-af1c-4216-87ba-a27cea9a0ccc"
      },
      "source": [
        "lanes = [1,2,3,4,5,6]\n",
        "\n",
        "b = [[i, j] for i in lanes for j in lanes]\n",
        "combos = []\n",
        "for i in b:\n",
        "    if i[0]<i[1]: \n",
        "        combos.append(i)\n",
        "\n",
        "pvalues = []\n",
        "for i in combos:\n",
        "    e = lanes_df[\"Time\"][lanes_df[\"Lane\"]==i[0]]\n",
        "    f = lanes_df[\"Time\"][lanes_df[\"Lane\"]==i[1]]\n",
        "    pvalue = round(stats.ttest_ind(e, f)[1],4)\n",
        "    pvalues.append(pvalue)\n",
        "\n",
        "pd.DataFrame({'Lane Pair': combos,\n",
        "              'P-value' : pvalues}).sort_values('P-value')\n"
      ],
      "execution_count": 28,
      "outputs": [
        {
          "output_type": "execute_result",
          "data": {
            "text/html": [
              "\n",
              "  <div id=\"df-25039573-bd92-46c2-b260-e2055bfa6946\">\n",
              "    <div class=\"colab-df-container\">\n",
              "      <div>\n",
              "<style scoped>\n",
              "    .dataframe tbody tr th:only-of-type {\n",
              "        vertical-align: middle;\n",
              "    }\n",
              "\n",
              "    .dataframe tbody tr th {\n",
              "        vertical-align: top;\n",
              "    }\n",
              "\n",
              "    .dataframe thead th {\n",
              "        text-align: right;\n",
              "    }\n",
              "</style>\n",
              "<table border=\"1\" class=\"dataframe\">\n",
              "  <thead>\n",
              "    <tr style=\"text-align: right;\">\n",
              "      <th></th>\n",
              "      <th>Lane Pair</th>\n",
              "      <th>P-value</th>\n",
              "    </tr>\n",
              "  </thead>\n",
              "  <tbody>\n",
              "    <tr>\n",
              "      <th>14</th>\n",
              "      <td>[5, 6]</td>\n",
              "      <td>0.4918</td>\n",
              "    </tr>\n",
              "    <tr>\n",
              "      <th>12</th>\n",
              "      <td>[4, 5]</td>\n",
              "      <td>0.4923</td>\n",
              "    </tr>\n",
              "    <tr>\n",
              "      <th>10</th>\n",
              "      <td>[3, 5]</td>\n",
              "      <td>0.4981</td>\n",
              "    </tr>\n",
              "    <tr>\n",
              "      <th>7</th>\n",
              "      <td>[2, 5]</td>\n",
              "      <td>0.5610</td>\n",
              "    </tr>\n",
              "    <tr>\n",
              "      <th>3</th>\n",
              "      <td>[1, 5]</td>\n",
              "      <td>0.5954</td>\n",
              "    </tr>\n",
              "    <tr>\n",
              "      <th>4</th>\n",
              "      <td>[1, 6]</td>\n",
              "      <td>0.7875</td>\n",
              "    </tr>\n",
              "    <tr>\n",
              "      <th>2</th>\n",
              "      <td>[1, 4]</td>\n",
              "      <td>0.7923</td>\n",
              "    </tr>\n",
              "    <tr>\n",
              "      <th>1</th>\n",
              "      <td>[1, 3]</td>\n",
              "      <td>0.8071</td>\n",
              "    </tr>\n",
              "    <tr>\n",
              "      <th>8</th>\n",
              "      <td>[2, 6]</td>\n",
              "      <td>0.8422</td>\n",
              "    </tr>\n",
              "    <tr>\n",
              "      <th>6</th>\n",
              "      <td>[2, 4]</td>\n",
              "      <td>0.8494</td>\n",
              "    </tr>\n",
              "    <tr>\n",
              "      <th>5</th>\n",
              "      <td>[2, 3]</td>\n",
              "      <td>0.8662</td>\n",
              "    </tr>\n",
              "    <tr>\n",
              "      <th>0</th>\n",
              "      <td>[1, 2]</td>\n",
              "      <td>0.9373</td>\n",
              "    </tr>\n",
              "    <tr>\n",
              "      <th>11</th>\n",
              "      <td>[3, 6]</td>\n",
              "      <td>0.9652</td>\n",
              "    </tr>\n",
              "    <tr>\n",
              "      <th>9</th>\n",
              "      <td>[3, 4]</td>\n",
              "      <td>0.9789</td>\n",
              "    </tr>\n",
              "    <tr>\n",
              "      <th>13</th>\n",
              "      <td>[4, 6]</td>\n",
              "      <td>0.9856</td>\n",
              "    </tr>\n",
              "  </tbody>\n",
              "</table>\n",
              "</div>\n",
              "      <button class=\"colab-df-convert\" onclick=\"convertToInteractive('df-25039573-bd92-46c2-b260-e2055bfa6946')\"\n",
              "              title=\"Convert this dataframe to an interactive table.\"\n",
              "              style=\"display:none;\">\n",
              "        \n",
              "  <svg xmlns=\"http://www.w3.org/2000/svg\" height=\"24px\"viewBox=\"0 0 24 24\"\n",
              "       width=\"24px\">\n",
              "    <path d=\"M0 0h24v24H0V0z\" fill=\"none\"/>\n",
              "    <path d=\"M18.56 5.44l.94 2.06.94-2.06 2.06-.94-2.06-.94-.94-2.06-.94 2.06-2.06.94zm-11 1L8.5 8.5l.94-2.06 2.06-.94-2.06-.94L8.5 2.5l-.94 2.06-2.06.94zm10 10l.94 2.06.94-2.06 2.06-.94-2.06-.94-.94-2.06-.94 2.06-2.06.94z\"/><path d=\"M17.41 7.96l-1.37-1.37c-.4-.4-.92-.59-1.43-.59-.52 0-1.04.2-1.43.59L10.3 9.45l-7.72 7.72c-.78.78-.78 2.05 0 2.83L4 21.41c.39.39.9.59 1.41.59.51 0 1.02-.2 1.41-.59l7.78-7.78 2.81-2.81c.8-.78.8-2.07 0-2.86zM5.41 20L4 18.59l7.72-7.72 1.47 1.35L5.41 20z\"/>\n",
              "  </svg>\n",
              "      </button>\n",
              "      \n",
              "  <style>\n",
              "    .colab-df-container {\n",
              "      display:flex;\n",
              "      flex-wrap:wrap;\n",
              "      gap: 12px;\n",
              "    }\n",
              "\n",
              "    .colab-df-convert {\n",
              "      background-color: #E8F0FE;\n",
              "      border: none;\n",
              "      border-radius: 50%;\n",
              "      cursor: pointer;\n",
              "      display: none;\n",
              "      fill: #1967D2;\n",
              "      height: 32px;\n",
              "      padding: 0 0 0 0;\n",
              "      width: 32px;\n",
              "    }\n",
              "\n",
              "    .colab-df-convert:hover {\n",
              "      background-color: #E2EBFA;\n",
              "      box-shadow: 0px 1px 2px rgba(60, 64, 67, 0.3), 0px 1px 3px 1px rgba(60, 64, 67, 0.15);\n",
              "      fill: #174EA6;\n",
              "    }\n",
              "\n",
              "    [theme=dark] .colab-df-convert {\n",
              "      background-color: #3B4455;\n",
              "      fill: #D2E3FC;\n",
              "    }\n",
              "\n",
              "    [theme=dark] .colab-df-convert:hover {\n",
              "      background-color: #434B5C;\n",
              "      box-shadow: 0px 1px 3px 1px rgba(0, 0, 0, 0.15);\n",
              "      filter: drop-shadow(0px 1px 2px rgba(0, 0, 0, 0.3));\n",
              "      fill: #FFFFFF;\n",
              "    }\n",
              "  </style>\n",
              "\n",
              "      <script>\n",
              "        const buttonEl =\n",
              "          document.querySelector('#df-25039573-bd92-46c2-b260-e2055bfa6946 button.colab-df-convert');\n",
              "        buttonEl.style.display =\n",
              "          google.colab.kernel.accessAllowed ? 'block' : 'none';\n",
              "\n",
              "        async function convertToInteractive(key) {\n",
              "          const element = document.querySelector('#df-25039573-bd92-46c2-b260-e2055bfa6946');\n",
              "          const dataTable =\n",
              "            await google.colab.kernel.invokeFunction('convertToInteractive',\n",
              "                                                     [key], {});\n",
              "          if (!dataTable) return;\n",
              "\n",
              "          const docLinkHtml = 'Like what you see? Visit the ' +\n",
              "            '<a target=\"_blank\" href=https://colab.research.google.com/notebooks/data_table.ipynb>data table notebook</a>'\n",
              "            + ' to learn more about interactive tables.';\n",
              "          element.innerHTML = '';\n",
              "          dataTable['output_type'] = 'display_data';\n",
              "          await google.colab.output.renderOutput(dataTable, element);\n",
              "          const docLink = document.createElement('div');\n",
              "          docLink.innerHTML = docLinkHtml;\n",
              "          element.appendChild(docLink);\n",
              "        }\n",
              "      </script>\n",
              "    </div>\n",
              "  </div>\n",
              "  "
            ],
            "text/plain": [
              "   Lane Pair  P-value\n",
              "14    [5, 6]   0.4918\n",
              "12    [4, 5]   0.4923\n",
              "10    [3, 5]   0.4981\n",
              "7     [2, 5]   0.5610\n",
              "3     [1, 5]   0.5954\n",
              "4     [1, 6]   0.7875\n",
              "2     [1, 4]   0.7923\n",
              "1     [1, 3]   0.8071\n",
              "8     [2, 6]   0.8422\n",
              "6     [2, 4]   0.8494\n",
              "5     [2, 3]   0.8662\n",
              "0     [1, 2]   0.9373\n",
              "11    [3, 6]   0.9652\n",
              "9     [3, 4]   0.9789\n",
              "13    [4, 6]   0.9856"
            ]
          },
          "metadata": {},
          "execution_count": 28
        }
      ]
    },
    {
      "cell_type": "markdown",
      "metadata": {
        "id": "XGSvwzdXnco9"
      },
      "source": [
        "Since, for each pair of lanes, the probability is high (p-value>0.05) that the mean Time difference is chance, we can conclude there is no significant difference among the lanes' mean Times. Please note that the significance level we choose (0.05) implies a confidence level of of 95%, and that it's just a convention. "
      ]
    },
    {
      "cell_type": "markdown",
      "metadata": {
        "id": "XmRo74P9Iy3X"
      },
      "source": [
        "#### The Pack 27 Effect"
      ]
    },
    {
      "cell_type": "markdown",
      "metadata": {
        "id": "x0AmFx-CGZJm"
      },
      "source": [
        "Yes, there is one, and it's measurable and significant. On average and when controlling for rounds and lanes, being an adult leader at Pack 27 reduces the Time by around 0.44 seconds (Pass it on!). See the coefficient for `Pack27` in the results below."
      ]
    },
    {
      "cell_type": "code",
      "metadata": {
        "id": "2U93S3NEGZXF",
        "colab": {
          "base_uri": "https://localhost:8080/"
        },
        "outputId": "10ce57ff-7531-461c-fb92-c1b75862037d"
      },
      "source": [
        "derby_regression_pintwood(prelims_df, ['2022'])"
      ],
      "execution_count": 73,
      "outputs": [
        {
          "output_type": "stream",
          "name": "stdout",
          "text": [
            "                            OLS Regression Results                            \n",
            "==============================================================================\n",
            "Dep. Variable:                   Time   R-squared:                       0.227\n",
            "Model:                            OLS   Adj. R-squared:                  0.180\n",
            "Method:                 Least Squares   F-statistic:                     4.794\n",
            "Date:                Sun, 06 Mar 2022   Prob (F-statistic):           4.92e-06\n",
            "Time:                        22:10:05   Log-Likelihood:                -167.56\n",
            "No. Observations:                 174   AIC:                             357.1\n",
            "Df Residuals:                     163   BIC:                             391.9\n",
            "Df Model:                          10                                         \n",
            "Covariance Type:            nonrobust                                         \n",
            "==============================================================================\n",
            "                 coef    std err          t      P>|t|      [0.025      0.975]\n",
            "------------------------------------------------------------------------------\n",
            "Intercept      3.7485      0.161     23.301      0.000       3.431       4.066\n",
            "Lane2         -0.0118      0.172     -0.069      0.945      -0.351       0.328\n",
            "Lane3         -0.0348      0.172     -0.202      0.840      -0.374       0.305\n",
            "Lane4         -0.0383      0.172     -0.223      0.824      -0.378       0.301\n",
            "Lane5          0.1438      0.172      0.836      0.404      -0.196       0.483\n",
            "Lane6         -0.0408      0.172     -0.237      0.813      -0.380       0.299\n",
            "PrelimB       -0.4015      0.154     -2.601      0.010      -0.706      -0.097\n",
            "PrelimC       -0.1131      0.154     -0.733      0.465      -0.418       0.192\n",
            "PrelimD       -0.4446      0.156     -2.856      0.005      -0.752      -0.137\n",
            "PrelimE        0.2699      0.167      1.617      0.108      -0.060       0.599\n",
            "Pack27        -0.4384      0.122     -3.605      0.000      -0.678      -0.198\n",
            "==============================================================================\n",
            "Omnibus:                      229.348   Durbin-Watson:                   2.113\n",
            "Prob(Omnibus):                  0.000   Jarque-Bera (JB):            17043.330\n",
            "Skew:                           5.258   Prob(JB):                         0.00\n",
            "Kurtosis:                      50.331   Cond. No.                         7.66\n",
            "==============================================================================\n",
            "\n",
            "Warnings:\n",
            "[1] Standard Errors assume that the covariance matrix of the errors is correctly specified.\n"
          ]
        }
      ]
    },
    {
      "cell_type": "markdown",
      "metadata": {
        "id": "tHW3YS3akOQD"
      },
      "source": [
        "### Distributional Analysis and Fastest Possible Time"
      ]
    },
    {
      "cell_type": "markdown",
      "metadata": {
        "id": "E5SklnRij9qy"
      },
      "source": [
        "Let's look again at the histogram for the preliminary rounds."
      ]
    },
    {
      "cell_type": "code",
      "metadata": {
        "id": "i6LjJyz9jXV7",
        "colab": {
          "base_uri": "https://localhost:8080/",
          "height": 452
        },
        "outputId": "419839c2-7809-440f-d3e0-68c043761911"
      },
      "source": [
        "comps = {'Year' : ['2022']}\n",
        "compare_hist(prelims_df, comps, title=\"Preliminary Rounds\",\n",
        "         hist=True, norm_hist=True, kde=False)"
      ],
      "execution_count": 29,
      "outputs": [
        {
          "output_type": "display_data",
          "data": {
            "image/png": "[encoded data removed]",
            "text/plain": [
              "<Figure size 720x450 with 1 Axes>"
            ]
          },
          "metadata": {}
        }
      ]
    },
    {
      "cell_type": "markdown",
      "metadata": {
        "id": "EbgUZm4tncn8"
      },
      "source": [
        "Can we say with confidence that the preliminaries' times are normally distributed (i.e. follow a bell curve)? Do a test for normality."
      ]
    },
    {
      "cell_type": "code",
      "metadata": {
        "id": "KZfscbAzncn-",
        "colab": {
          "base_uri": "https://localhost:8080/"
        },
        "outputId": "99a6f337-745a-4d4f-cf8f-bb130299f45c"
      },
      "source": [
        "times = prelims_df[prelims_df.Year.isin(['2022'])]['Time']\n",
        "stats.normaltest(times)"
      ],
      "execution_count": 30,
      "outputs": [
        {
          "output_type": "execute_result",
          "data": {
            "text/plain": [
              "NormaltestResult(statistic=209.99583043170017, pvalue=2.5117985790101577e-46)"
            ]
          },
          "metadata": {},
          "execution_count": 30
        }
      ]
    },
    {
      "cell_type": "markdown",
      "metadata": {
        "id": "jWsKXpKEncoE"
      },
      "source": [
        "Since the above p-value < 0.05 , we can reject the null hypothesis that Times are distributed normally. \n",
        "\n",
        "The histogram appears to have a long right tail and a hard boundary on the left. Perhaps a lognormal distribution is more appropriate. Superimpose a lognormal probability density function to the histogram and check visually for goodness of fit."
      ]
    },
    {
      "cell_type": "code",
      "metadata": {
        "id": "Ly-vKttC9m13",
        "colab": {
          "base_uri": "https://localhost:8080/",
          "height": 452
        },
        "outputId": "109a6088-d875-45ae-b384-ced6ce93ecc4"
      },
      "source": [
        "comps = {'Year' : ['2022']}\n",
        "compare_hist(prelims_df, comps, title=\"Preliminary Rounds\",\n",
        "             hist=True, norm_hist=True, kde=False, fit=stats.lognorm)"
      ],
      "execution_count": 31,
      "outputs": [
        {
          "output_type": "display_data",
          "data": {
            "image/png": "[encoded data removed]",
            "text/plain": [
              "<Figure size 720x450 with 1 Axes>"
            ]
          },
          "metadata": {}
        }
      ]
    },
    {
      "cell_type": "markdown",
      "metadata": {
        "id": "A8KWMts_ncoN"
      },
      "source": [
        "The curve looks to fit the data well. In others words, the data appear to follow a lognormal distribution. Test for goodness of fit."
      ]
    },
    {
      "cell_type": "code",
      "metadata": {
        "id": "FwiJRY7incoQ",
        "colab": {
          "base_uri": "https://localhost:8080/"
        },
        "outputId": "60c19e0f-9cc1-46e8-cc7d-1a37e5ae20a3"
      },
      "source": [
        "#https://docs.scipy.org/doc/scipy/reference/generated/scipy.stats.kstest.html#scipy.stats.kstest\n",
        "stats.kstest(times, \"lognorm\", stats.lognorm.fit(times))"
      ],
      "execution_count": 32,
      "outputs": [
        {
          "output_type": "execute_result",
          "data": {
            "text/plain": [
              "KstestResult(statistic=0.07151377639824663, pvalue=0.32172122767772754)"
            ]
          },
          "metadata": {},
          "execution_count": 32
        }
      ]
    },
    {
      "cell_type": "markdown",
      "metadata": {
        "id": "kyZB_8WjncoV"
      },
      "source": [
        "Since the above p-value > 0.05 , we cannot reject the null hypothesis that Times follow a lognormal distribution. Also, we know that simulating the track physics yields a lognormal distribution of race times. See https://github.com/tedteske/DerbySim/blob/master/DerbySim.ipynb for details.\n",
        "\n",
        "Now, estimate the parameters of that distribution, and plot a historgram of random draws from it to see if it resembles the original data. "
      ]
    },
    {
      "cell_type": "code",
      "metadata": {
        "id": "wotJvwlAncoX",
        "colab": {
          "base_uri": "https://localhost:8080/",
          "height": 539
        },
        "outputId": "b225c347-b374-45b7-997b-b41c0d3c4fec"
      },
      "source": [
        "shape, floor, median = stats.lognorm.fit(times)\n",
        "\n",
        "print(\"shape = \", shape.round(4))\n",
        "print(\"lower bound = \", floor.round(4))\n",
        "print(\"distance from lower bound to median = \", median.round(4))\n",
        "print(\"\\n\")\n",
        "\n",
        "dist = []\n",
        "for i in range(len(times)):\n",
        "    x = stats.lognorm.rvs(s=shape, loc=floor, scale=median)\n",
        "    dist.append(['2022', x])\n",
        "\n",
        "df = pd.DataFrame(dist, columns = ['Year', 'Time'])  \n",
        "\n",
        "comps = {'Year' : ['2022']}\n",
        "compare_hist(df, comps_dict=comps, title=\"Simulated Rounds\",\n",
        "         hist=True, norm_hist=True, kde=False, fit=stats.lognorm)"
      ],
      "execution_count": 33,
      "outputs": [
        {
          "output_type": "stream",
          "name": "stdout",
          "text": [
            "shape =  1.2989\n",
            "lower bound =  2.9955\n",
            "distance from lower bound to median =  0.2352\n",
            "\n",
            "\n"
          ]
        },
        {
          "output_type": "display_data",
          "data": {
            "image/png": "[encoded data removed]",
            "text/plain": [
              "<Figure size 720x450 with 1 Axes>"
            ]
          },
          "metadata": {}
        }
      ]
    },
    {
      "cell_type": "markdown",
      "metadata": {
        "id": "TYo5ddK8ncod"
      },
      "source": [
        "Yes, sure does. \n",
        "\n",
        "If this curve then is representative, then what is the probability that some car randomly selected from this group runs a time better than 3.2 seconds?"
      ]
    },
    {
      "cell_type": "code",
      "metadata": {
        "id": "04SJLdJOncoe",
        "colab": {
          "base_uri": "https://localhost:8080/"
        },
        "outputId": "2161af62-b4a5-44bb-d125-d6227df77eee"
      },
      "source": [
        "#https://matthew-brett.github.io/teaching/on_cdfs.html\n",
        "stats.lognorm.cdf(x=3.2, s=shape, loc=floor, scale=median).round(4)"
      ],
      "execution_count": 29,
      "outputs": [
        {
          "output_type": "execute_result",
          "data": {
            "text/plain": [
              "0.4571"
            ]
          },
          "metadata": {},
          "execution_count": 29
        }
      ]
    },
    {
      "cell_type": "markdown",
      "metadata": {
        "id": "glsvGMITzwuS"
      },
      "source": [
        "...and better than 3.1 seconds?"
      ]
    },
    {
      "cell_type": "code",
      "metadata": {
        "id": "mKvFqeYfncol",
        "colab": {
          "base_uri": "https://localhost:8080/"
        },
        "outputId": "d45bb4f3-4a8c-4532-a02e-95da091d516c"
      },
      "source": [
        "stats.lognorm.cdf(x=3.1, s=shape, loc=floor, scale=median).round(4)"
      ],
      "execution_count": 75,
      "outputs": [
        {
          "output_type": "execute_result",
          "data": {
            "text/plain": [
              "0.2662"
            ]
          },
          "metadata": {},
          "execution_count": 75
        }
      ]
    },
    {
      "cell_type": "markdown",
      "metadata": {
        "id": "cEveuq4pncok"
      },
      "source": [
        "...which is consistent with the lower bound of the distribution above.  Note that this is seems to run coutner to with the fastest possible time (with stock wheels and one wheel lifted) of 3.0378. \n",
        "\n",
        "See again https://github.com/tedteske/DerbySim/blob/master/DerbySim.ipynb for details."
      ]
    }
  ]
}